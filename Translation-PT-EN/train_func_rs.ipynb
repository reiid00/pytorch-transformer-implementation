{
 "cells": [
  {
   "cell_type": "code",
   "execution_count": 1,
   "metadata": {},
   "outputs": [],
   "source": [
    "import os\n",
    "import sys\n",
    "sys.path.insert(1, os.path.abspath(os.path.join(os.path.dirname(f'..{os.sep}utils'))))\n",
    "sys.path.insert(1, os.path.abspath(os.path.join(os.path.dirname( '..'))))\n",
    "from utils.constants import *\n",
    "import torch\n",
    "import torch.nn as nn\n",
    "from transformer_v2 import Transformer\n",
    "from utils.function_utils import *\n",
    "from func_load_model_old import *\n",
    "from utils.optimizer_n_scheduler import *\n",
    "from utils.logging_tensorboard import create_summary_writer, log_loss, log_learning_rate, log_gradients, log_attention_weights\n",
    "from utils.distributions import *\n",
    "from torch.cuda.amp import GradScaler, autocast\n",
    "from data_funcs import *"
   ]
  },
  {
   "cell_type": "code",
   "execution_count": 2,
   "metadata": {},
   "outputs": [],
   "source": [
    "num_workers = os.cpu_count()"
   ]
  },
  {
   "cell_type": "code",
   "execution_count": 3,
   "metadata": {},
   "outputs": [
    {
     "name": "stdout",
     "output_type": "stream",
     "text": [
      "Thu May  4 23:25:45 2023       \n",
      "+---------------------------------------------------------------------------------------+\n",
      "| NVIDIA-SMI 531.14                 Driver Version: 531.14       CUDA Version: 12.1     |\n",
      "|-----------------------------------------+----------------------+----------------------+\n",
      "| GPU  Name                      TCC/WDDM | Bus-Id        Disp.A | Volatile Uncorr. ECC |\n",
      "| Fan  Temp  Perf            Pwr:Usage/Cap|         Memory-Usage | GPU-Util  Compute M. |\n",
      "|                                         |                      |               MIG M. |\n",
      "|=========================================+======================+======================|\n",
      "|   0  NVIDIA GeForce RTX 3060 Ti    WDDM | 00000000:29:00.0  On |                  N/A |\n",
      "| 30%   38C    P0               43W / 200W|    480MiB /  8192MiB |      6%      Default |\n",
      "|                                         |                      |                  N/A |\n",
      "+-----------------------------------------+----------------------+----------------------+\n",
      "                                                                                         \n",
      "+---------------------------------------------------------------------------------------+\n",
      "| Processes:                                                                            |\n",
      "|  GPU   GI   CI        PID   Type   Process name                            GPU Memory |\n",
      "|        ID   ID                                                             Usage      |\n",
      "|=======================================================================================|\n",
      "|    0   N/A  N/A      3744    C+G   ...Programs\\Microsoft VS Code\\Code.exe    N/A      |\n",
      "|    0   N/A  N/A      7576    C+G   ...1.0_x64__8wekyb3d8bbwe\\Video.UI.exe    N/A      |\n",
      "|    0   N/A  N/A      9464    C+G   C:\\Windows\\explorer.exe                   N/A      |\n",
      "|    0   N/A  N/A     10872    C+G   ...nt.CBS_cw5n1h2txyewy\\SearchHost.exe    N/A      |\n",
      "|    0   N/A  N/A     10924    C+G   ...2txyewy\\StartMenuExperienceHost.exe    N/A      |\n",
      "|    0   N/A  N/A     11272    C+G   ...60.0_x86__zpdnekdrzrea0\\Spotify.exe    N/A      |\n",
      "|    0   N/A  N/A     11284    C+G   ...siveControlPanel\\SystemSettings.exe    N/A      |\n",
      "|    0   N/A  N/A     12448    C+G   ...61.0_x64__8wekyb3d8bbwe\\GameBar.exe    N/A      |\n",
      "|    0   N/A  N/A     13072    C+G   ...GeForce Experience\\NVIDIA Share.exe    N/A      |\n",
      "|    0   N/A  N/A     13916    C+G   ...oogle\\Chrome\\Application\\chrome.exe    N/A      |\n",
      "|    0   N/A  N/A     14280    C+G   ...CBS_cw5n1h2txyewy\\TextInputHost.exe    N/A      |\n",
      "+---------------------------------------------------------------------------------------+\n"
     ]
    }
   ],
   "source": [
    "!nvidia-smi"
   ]
  },
  {
   "cell_type": "code",
   "execution_count": 4,
   "metadata": {},
   "outputs": [],
   "source": [
    "device = torch.device(\"cuda\" if torch.cuda.is_available() else \"cpu\")\n",
    "\n",
    "batch_size = 16\n",
    "max_len = MODEL_MAX_SEQ_LEN\n",
    "d_model = MODEL_DIM\n",
    "num_layers = MODEL_N_LAYERS\n",
    "num_heads = MODEL_N_HEADS\n",
    "dropout = MODEL_DROPOUT\n",
    "num_epochs = 10\n",
    "learning_rate = 1e-4\n",
    "warmup_steps = 2000\n",
    "weight_decay = 1e-4\n",
    "VOCAB_SIZE = 64_000\n",
    "d_ff = MODEL_FF\n",
    "label_smoothing = MODEL_LABEL_SMOTHING\n",
    "FILE_PATH = 'data/en-pt.txt'\n",
    "NUM_PHRASES = 100_000\n",
    "\n",
    "n=2\n",
    "LOGGING_FILE = f'runs{os.sep}translation_experiment_{n}_num_phrases_{NUM_PHRASES}'"
   ]
  },
  {
   "attachments": {},
   "cell_type": "markdown",
   "metadata": {},
   "source": [
    "## OLD-PREPROCESSING"
   ]
  },
  {
   "cell_type": "code",
   "execution_count": 5,
   "metadata": {},
   "outputs": [],
   "source": [
    "tokenizer = load_tokenizer()\n",
    "model = Transformer(VOCAB_SIZE,\n",
    "                    VOCAB_SIZE, \n",
    "                    d_model, \n",
    "                    num_heads, \n",
    "                    num_layers, \n",
    "                    d_ff, \n",
    "                    dropout, \n",
    "                    max_len).to(device)"
   ]
  },
  {
   "cell_type": "code",
   "execution_count": 6,
   "metadata": {},
   "outputs": [],
   "source": [
    "optimizer, scheduler = create_optimizer_and_scheduler(model, d_model, warmup_steps, learning_rate, weight_decay)"
   ]
  },
  {
   "cell_type": "code",
   "execution_count": 7,
   "metadata": {},
   "outputs": [],
   "source": [
    "writer = create_summary_writer(LOGGING_FILE)"
   ]
  },
  {
   "cell_type": "code",
   "execution_count": 8,
   "metadata": {},
   "outputs": [],
   "source": [
    "sentence_pairs = load_dataset(FILE_PATH, limit=NUM_PHRASES)\n",
    "preprocessed_pairs = [(preprocess_text(en), preprocess_text(pt)) for en, pt in sentence_pairs]\n",
    "split_idx = int(len(preprocessed_pairs) * 0.9)\n",
    "train_sentence_pairs = preprocessed_pairs[:split_idx]\n",
    "val_sentence_pairs = preprocessed_pairs[split_idx:]"
   ]
  },
  {
   "cell_type": "code",
   "execution_count": 9,
   "metadata": {},
   "outputs": [],
   "source": [
    "train_dataset = preprocess_data(train_sentence_pairs, tokenizer, max_len)\n",
    "val_dataset = preprocess_data(val_sentence_pairs, tokenizer, max_len)"
   ]
  },
  {
   "cell_type": "code",
   "execution_count": 10,
   "metadata": {},
   "outputs": [],
   "source": [
    "train_dataloader = create_dataloader(train_dataset, batch_size, tokenizer, shuffle=True, num_workers=num_workers)\n",
    "val_dataloader = create_dataloader(val_dataset, batch_size, tokenizer, shuffle=False, num_workers=num_workers)"
   ]
  },
  {
   "cell_type": "code",
   "execution_count": 11,
   "metadata": {},
   "outputs": [],
   "source": [
    "pad_idx = tokenizer.token_to_id(\"<pad>\")\n",
    "criterion = LabelSmoothingKLDivergenceLoss(label_smoothing, VOCAB_SIZE, ignore_index=pad_idx)"
   ]
  },
  {
   "cell_type": "code",
   "execution_count": null,
   "metadata": {},
   "outputs": [],
   "source": [
    "def train(model, train_loader, val_loader, criterion, optimizer, scheduler, num_epochs, tgt_vocab, pad_idx, device, log_interval=100):\n",
    "    global_step = 0\n",
    "    accumulation_steps = 4\n",
    "    for epoch in range(num_epochs):\n",
    "        print('Starting epoch: ', epoch+1)\n",
    "        model.train()\n",
    "        accumulation_steps = 4\n",
    "        optimizer.zero_grad()\n",
    "        for batch_idx, (src, tgt) in enumerate(train_loader):\n",
    "            src, tgt = src.to(device), tgt.to(device)\n",
    "            src_mask, tgt_mask = generate_masks(src, tgt, pad_idx)\n",
    "            if batch_idx == 0: \n",
    "                _, enc_attention_weights, dec_self_attention_weights, dec_enc_attention_weights = model(src, tgt, src_mask, tgt_mask, return_attention=True)\n",
    "                attention_weights = {\n",
    "                    \"encoder\": enc_attention_weights,\n",
    "                    \"decoder_self\": dec_self_attention_weights,\n",
    "                    \"decoder_enc_dec\": dec_enc_attention_weights\n",
    "                }\n",
    "                log_attention_weights(writer, attention_weights, MODEL_N_LAYERS, MODEL_N_HEADS, global_step)\n",
    "\n",
    "            output = model(src, tgt, src_mask, tgt_mask)\n",
    "            _, loss = criterion(output, tgt)\n",
    "            loss.backward()\n",
    "            if (batch_idx + 1) % accumulation_steps == 0:\n",
    "                torch.nn.utils.clip_grad_norm_(model.parameters(), max_norm=1)\n",
    "                optimizer.step()\n",
    "                scheduler.step()\n",
    "                optimizer.zero_grad()\n",
    "            # Log loss, learning rate, weights, and attention weights to TensorBoard\n",
    "            log_loss(writer, loss, global_step)\n",
    "            log_learning_rate(writer, scheduler.learning_rate(), global_step)\n",
    "            global_step += 1\n",
    "\n",
    "            if (batch_idx + 1) % 10 == 0:\n",
    "                print(f\"Epoch {epoch + 1}/{num_epochs} | Batch {batch_idx + 1}/{len(train_loader)} | Train Loss: {loss.item():.4f}\")\n",
    "            \n",
    "\n",
    "\n",
    "        # Evaluate the model on the validation set after each epoch\n",
    "        val_loss = evaluate_model(model, val_loader, criterion, device, pad_idx)\n",
    "        print(f\"Epoch: {epoch + 1} | Validation Loss: {val_loss:.4f}\")\n",
    "        \n",
    "        bleu_score = evaluate_metrics(model, val_loader, pad_idx, tokenizer, device)\n",
    "        print(f\"Epoch: {epoch + 1}, BLEU Score: {bleu_score:.4f}\")\n",
    "\n",
    "        # Save the model checkpoint after each epoch\n",
    "        save_checkpoint(model, optimizer, scheduler, epoch, f\"checkpoints{os.sep}checkpoint_epoch_{epoch+1}_val_loss_{val_loss:.4f}.pt\")"
   ]
  },
  {
   "cell_type": "code",
   "execution_count": null,
   "metadata": {},
   "outputs": [],
   "source": [
    "train(model, train_dataloader, val_dataloader, criterion, optimizer, scheduler, num_epochs, VOCAB_SIZE, VOCAB_SIZE, device)"
   ]
  },
  {
   "attachments": {},
   "cell_type": "markdown",
   "metadata": {},
   "source": [
    "## NEW-PREPROCESSING"
   ]
  },
  {
   "cell_type": "code",
   "execution_count": 7,
   "metadata": {},
   "outputs": [],
   "source": [
    "train_dataloader, test_dataloader, pad_idx_src, pad_idx_tgt, src_vocab, tgt_vocab = load_data(FILE_PATH, language_direction = LanguageDirection.PT2EN.name, limit = NUM_PHRASES, batch_size = batch_size, max_len = max_len)"
   ]
  },
  {
   "cell_type": "code",
   "execution_count": 8,
   "metadata": {},
   "outputs": [],
   "source": [
    "model = Transformer(len(src_vocab),\n",
    "                    len(tgt_vocab), \n",
    "                    d_model, \n",
    "                    num_heads, \n",
    "                    num_layers, \n",
    "                    d_ff, \n",
    "                    dropout, \n",
    "                    max_len).to(device)\n",
    "optimizer, scheduler = create_optimizer_and_scheduler(model, d_model, warmup_steps, learning_rate, weight_decay)\n",
    "writer = create_summary_writer(LOGGING_FILE)\n",
    "criterion = LabelSmoothingKLDivergenceLoss(label_smoothing, len(tgt_vocab), ignore_index=pad_idx_tgt)"
   ]
  },
  {
   "cell_type": "code",
   "execution_count": 9,
   "metadata": {},
   "outputs": [
    {
     "data": {
      "text/plain": [
       "Transformer(\n",
       "  (encoder_embedding): Embedding(79252, 128)\n",
       "  (decoder_embedding): Embedding(95956, 128)\n",
       "  (pos_encoding): PositionalEncoding()\n",
       "  (encoder_layers): ModuleList(\n",
       "    (0-5): 6 x EncoderLayer(\n",
       "      (self_attn): MultiHeadAttention(\n",
       "        (linear_q): Linear(in_features=128, out_features=128, bias=True)\n",
       "        (linear_k): Linear(in_features=128, out_features=128, bias=True)\n",
       "        (linear_v): Linear(in_features=128, out_features=128, bias=True)\n",
       "        (linear_out): Linear(in_features=128, out_features=128, bias=True)\n",
       "        (dropout): Dropout(p=0.1, inplace=False)\n",
       "      )\n",
       "      (feed_forward): PositionwiseFeedForward(\n",
       "        (linear1): Linear(in_features=128, out_features=512, bias=True)\n",
       "        (linear2): Linear(in_features=512, out_features=128, bias=True)\n",
       "      )\n",
       "      (layer_norm1): LayerNorm((128,), eps=1e-05, elementwise_affine=True)\n",
       "      (layer_norm2): LayerNorm((128,), eps=1e-05, elementwise_affine=True)\n",
       "      (dropout): Dropout(p=0.1, inplace=False)\n",
       "    )\n",
       "  )\n",
       "  (decoder_layers): ModuleList(\n",
       "    (0-5): 6 x DecoderLayer(\n",
       "      (self_attn): MultiHeadAttention(\n",
       "        (linear_q): Linear(in_features=128, out_features=128, bias=True)\n",
       "        (linear_k): Linear(in_features=128, out_features=128, bias=True)\n",
       "        (linear_v): Linear(in_features=128, out_features=128, bias=True)\n",
       "        (linear_out): Linear(in_features=128, out_features=128, bias=True)\n",
       "        (dropout): Dropout(p=0.1, inplace=False)\n",
       "      )\n",
       "      (cross_attn): MultiHeadAttention(\n",
       "        (linear_q): Linear(in_features=128, out_features=128, bias=True)\n",
       "        (linear_k): Linear(in_features=128, out_features=128, bias=True)\n",
       "        (linear_v): Linear(in_features=128, out_features=128, bias=True)\n",
       "        (linear_out): Linear(in_features=128, out_features=128, bias=True)\n",
       "        (dropout): Dropout(p=0.1, inplace=False)\n",
       "      )\n",
       "      (feed_forward): PositionwiseFeedForward(\n",
       "        (linear1): Linear(in_features=128, out_features=512, bias=True)\n",
       "        (linear2): Linear(in_features=512, out_features=128, bias=True)\n",
       "      )\n",
       "      (layer_norm1): LayerNorm((128,), eps=1e-05, elementwise_affine=True)\n",
       "      (layer_norm2): LayerNorm((128,), eps=1e-05, elementwise_affine=True)\n",
       "      (layer_norm3): LayerNorm((128,), eps=1e-05, elementwise_affine=True)\n",
       "      (dropout): Dropout(p=0.1, inplace=False)\n",
       "    )\n",
       "  )\n",
       "  (generator): Linear(in_features=128, out_features=95956, bias=True)\n",
       ")"
      ]
     },
     "execution_count": 9,
     "metadata": {},
     "output_type": "execute_result"
    }
   ],
   "source": [
    "model.eval()"
   ]
  },
  {
   "cell_type": "code",
   "execution_count": 11,
   "metadata": {},
   "outputs": [],
   "source": [
    "def train(model, train_loader, val_loader, criterion, optimizer, scheduler, num_epochs, pad_idx_src,pad_idx_tgt, tgt_vocab, device, log_interval=100):\n",
    "    global_step = 0\n",
    "    accumulation_steps = 4\n",
    "    for epoch in range(num_epochs):\n",
    "        print('Starting epoch: ', epoch+1)\n",
    "        model.train()\n",
    "        accumulation_steps = 4\n",
    "        optimizer.zero_grad()\n",
    "        for batch_idx, (src, tgt) in enumerate(train_loader):\n",
    "            src, tgt = src.to(device), tgt.to(device)\n",
    "            src_mask, tgt_mask = generate_masks_new(src, tgt, pad_idx_src, pad_idx_tgt)\n",
    "            #if batch_idx == 0: \n",
    "            #    _, enc_attention_weights, dec_self_attention_weights, dec_enc_attention_weights = model(src, tgt, src_mask, tgt_mask, return_attention=True)\n",
    "            #    attention_weights = {\n",
    "            #        \"encoder\": enc_attention_weights,\n",
    "            #        \"decoder_self\": dec_self_attention_weights,\n",
    "            #        \"decoder_enc_dec\": dec_enc_attention_weights\n",
    "            #    }\n",
    "                #log_attention_weights(writer, attention_weights, MODEL_N_LAYERS, MODEL_N_HEADS, global_step)\n",
    "\n",
    "            output = model(src, tgt, src_mask, tgt_mask)\n",
    "            _, loss = criterion(output, tgt)\n",
    "            loss.backward()\n",
    "            if (batch_idx + 1) % accumulation_steps == 0:\n",
    "                torch.nn.utils.clip_grad_norm_(model.parameters(), max_norm=1)\n",
    "                optimizer.step()\n",
    "                scheduler.step()\n",
    "                optimizer.zero_grad()\n",
    "                # Log loss, learning rate, weights, and attention weights to TensorBoard\n",
    "                log_loss(writer, loss, global_step)\n",
    "                log_learning_rate(writer, scheduler.learning_rate(), global_step)\n",
    "            global_step += 1\n",
    "\n",
    "            if (batch_idx + 1) % 1000 == 0:\n",
    "                print(f\"Epoch {epoch + 1}/{num_epochs} | Batch {batch_idx + 1}/{len(train_loader)} | Train Loss: {loss.item():.4f}\")\n",
    "            \n",
    "\n",
    "\n",
    "        # Evaluate the model on the validation set after each epoch\n",
    "        val_loss = evaluate_model(model, val_loader, criterion, device, pad_idx_src, pad_idx_tgt)\n",
    "        print(f\"Epoch: {epoch + 1} | Validation Loss: {val_loss:.4f}\")\n",
    "\n",
    "        #TODO: Implement model forward function withouth tgt_mask\n",
    "        # May use greedy decoding or beam search\n",
    "        \n",
    "        bleu_score = evaluate_metrics(model, val_loader, pad_idx_src, pad_idx_tgt, tgt_vocab, max_len, device)\n",
    "        print(f\"Epoch: {epoch + 1}, BLEU Score: {bleu_score:.4f}\")\n",
    "\n",
    "        # Save the model checkpoint after each epoch\n",
    "        save_checkpoint(model, optimizer, scheduler, epoch, f\"checkpoints{os.sep}checkpoint_epoch_{epoch+1}_val_loss_{val_loss:.4f}.pt\")"
   ]
  },
  {
   "cell_type": "code",
   "execution_count": 12,
   "metadata": {},
   "outputs": [
    {
     "name": "stdout",
     "output_type": "stream",
     "text": [
      "Starting epoch:  1\n",
      "Epoch 1/10 | Batch 1000/4999 | Train Loss: 6.4266\n",
      "Epoch 1/10 | Batch 2000/4999 | Train Loss: 6.1232\n",
      "Epoch 1/10 | Batch 3000/4999 | Train Loss: 5.7444\n",
      "Epoch 1/10 | Batch 4000/4999 | Train Loss: 5.9264\n",
      "Epoch: 1 | Validation Loss: 6.1116\n",
      "Epoch: 1, BLEU Score: 0.0001\n",
      "Starting epoch:  2\n",
      "Epoch 2/10 | Batch 1000/4999 | Train Loss: 6.4312\n",
      "Epoch 2/10 | Batch 2000/4999 | Train Loss: 6.4237\n",
      "Epoch 2/10 | Batch 3000/4999 | Train Loss: 6.1009\n",
      "Epoch 2/10 | Batch 4000/4999 | Train Loss: 5.9939\n",
      "Epoch: 2 | Validation Loss: 9.2831\n",
      "Epoch: 2, BLEU Score: 0.0000\n",
      "Starting epoch:  3\n",
      "Epoch 3/10 | Batch 1000/4999 | Train Loss: 6.4419\n",
      "Epoch 3/10 | Batch 2000/4999 | Train Loss: 6.1149\n",
      "Epoch 3/10 | Batch 3000/4999 | Train Loss: 6.3616\n",
      "Epoch 3/10 | Batch 4000/4999 | Train Loss: 6.1708\n",
      "Epoch: 3 | Validation Loss: 11.4631\n"
     ]
    },
    {
     "ename": "KeyboardInterrupt",
     "evalue": "",
     "output_type": "error",
     "traceback": [
      "\u001b[1;31m---------------------------------------------------------------------------\u001b[0m",
      "\u001b[1;31mKeyboardInterrupt\u001b[0m                         Traceback (most recent call last)",
      "Cell \u001b[1;32mIn[12], line 1\u001b[0m\n\u001b[1;32m----> 1\u001b[0m train(model, train_dataloader, test_dataloader, criterion, optimizer, scheduler, num_epochs, pad_idx_src, pad_idx_tgt, tgt_vocab, device)\n",
      "Cell \u001b[1;32mIn[11], line 46\u001b[0m, in \u001b[0;36mtrain\u001b[1;34m(model, train_loader, val_loader, criterion, optimizer, scheduler, num_epochs, pad_idx_src, pad_idx_tgt, tgt_vocab, device, log_interval)\u001b[0m\n\u001b[0;32m     41\u001b[0m \u001b[39mprint\u001b[39m(\u001b[39mf\u001b[39m\u001b[39m\"\u001b[39m\u001b[39mEpoch: \u001b[39m\u001b[39m{\u001b[39;00mepoch\u001b[39m \u001b[39m\u001b[39m+\u001b[39m\u001b[39m \u001b[39m\u001b[39m1\u001b[39m\u001b[39m}\u001b[39;00m\u001b[39m | Validation Loss: \u001b[39m\u001b[39m{\u001b[39;00mval_loss\u001b[39m:\u001b[39;00m\u001b[39m.4f\u001b[39m\u001b[39m}\u001b[39;00m\u001b[39m\"\u001b[39m)\n\u001b[0;32m     43\u001b[0m \u001b[39m#TODO: Implement model forward function withouth tgt_mask\u001b[39;00m\n\u001b[0;32m     44\u001b[0m \u001b[39m# May use greedy decoding or beam search\u001b[39;00m\n\u001b[1;32m---> 46\u001b[0m bleu_score \u001b[39m=\u001b[39m evaluate_metrics(model, val_loader, pad_idx_src, pad_idx_tgt, tgt_vocab, max_len, device)\n\u001b[0;32m     47\u001b[0m \u001b[39mprint\u001b[39m(\u001b[39mf\u001b[39m\u001b[39m\"\u001b[39m\u001b[39mEpoch: \u001b[39m\u001b[39m{\u001b[39;00mepoch\u001b[39m \u001b[39m\u001b[39m+\u001b[39m\u001b[39m \u001b[39m\u001b[39m1\u001b[39m\u001b[39m}\u001b[39;00m\u001b[39m, BLEU Score: \u001b[39m\u001b[39m{\u001b[39;00mbleu_score\u001b[39m:\u001b[39;00m\u001b[39m.4f\u001b[39m\u001b[39m}\u001b[39;00m\u001b[39m\"\u001b[39m)\n\u001b[0;32m     49\u001b[0m \u001b[39m# Save the model checkpoint after each epoch\u001b[39;00m\n",
      "File \u001b[1;32mc:\\Users\\reidp\\Documents\\pytorch-transformer-implementation\\utils\\function_utils.py:223\u001b[0m, in \u001b[0;36mevaluate_metrics\u001b[1;34m(model, data_loader, src_pad_idx, tgt_pad_idx, tgt_vocab, max_len, device)\u001b[0m\n\u001b[0;32m    221\u001b[0m src, tgt \u001b[39m=\u001b[39m src\u001b[39m.\u001b[39mto(device), tgt\u001b[39m.\u001b[39mto(device)\n\u001b[0;32m    222\u001b[0m src_mask \u001b[39m=\u001b[39m generate_src_mask(src, src_pad_idx)\n\u001b[1;32m--> 223\u001b[0m output \u001b[39m=\u001b[39m batch_greedy_decode_v2(model, src, src_mask, max_len, tgt_vocab, tgt_pad_idx, device)\n\u001b[0;32m    225\u001b[0m hypothesis \u001b[39m=\u001b[39m [sent[\u001b[39m1\u001b[39m:\u001b[39m-\u001b[39m\u001b[39m1\u001b[39m] \u001b[39mfor\u001b[39;00m sent \u001b[39min\u001b[39;00m output]  \u001b[39m# Remove BOS and EOS tokens\u001b[39;00m\n\u001b[0;32m    227\u001b[0m tgt_token_lists \u001b[39m=\u001b[39m [[tgt_itos[token_idx] \u001b[39mfor\u001b[39;00m token_idx \u001b[39min\u001b[39;00m sent \u001b[39mif\u001b[39;00m token_idx \u001b[39mnot\u001b[39;00m \u001b[39min\u001b[39;00m (tgt_pad_idx, tgt_vocab[BOS_TOKEN], tgt_vocab[EOS_TOKEN])] \u001b[39mfor\u001b[39;00m sent \u001b[39min\u001b[39;00m tgt\u001b[39m.\u001b[39mcpu()\u001b[39m.\u001b[39mnumpy()]\n",
      "File \u001b[1;32mc:\\Users\\reidp\\Documents\\pytorch-transformer-implementation\\utils\\function_utils.py:172\u001b[0m, in \u001b[0;36mbatch_greedy_decode_v2\u001b[1;34m(model, src, src_mask, max_len, tgt_vocab, tgt_pad_idx, device)\u001b[0m\n\u001b[0;32m    170\u001b[0m \u001b[39mwhile\u001b[39;00m \u001b[39mTrue\u001b[39;00m:\n\u001b[0;32m    171\u001b[0m     tgt_mask \u001b[39m=\u001b[39m generate_tgt_mask(trg_token_ids_batch, tgt_pad_idx)\n\u001b[1;32m--> 172\u001b[0m     enc_output, _ \u001b[39m=\u001b[39m model\u001b[39m.\u001b[39;49mencode(src, src_mask)\n\u001b[0;32m    173\u001b[0m     predicted_log_distributions, _, _ \u001b[39m=\u001b[39m model\u001b[39m.\u001b[39mdecode(trg_token_ids_batch, enc_output, src_mask, tgt_mask)\n\u001b[0;32m    175\u001b[0m     num_of_trg_tokens \u001b[39m=\u001b[39m \u001b[39mlen\u001b[39m(target_sentences_tokens[\u001b[39m0\u001b[39m])\n",
      "File \u001b[1;32mc:\\Users\\reidp\\Documents\\pytorch-transformer-implementation\\transformer_v2.py:51\u001b[0m, in \u001b[0;36mTransformer.encode\u001b[1;34m(self, src, src_mask)\u001b[0m\n\u001b[0;32m     49\u001b[0m enc_attention_weights \u001b[39m=\u001b[39m []\n\u001b[0;32m     50\u001b[0m \u001b[39mfor\u001b[39;00m layer \u001b[39min\u001b[39;00m \u001b[39mself\u001b[39m\u001b[39m.\u001b[39mencoder_layers:\n\u001b[1;32m---> 51\u001b[0m     enc_output, attn_weights  \u001b[39m=\u001b[39m layer(enc_output, src_mask)\n\u001b[0;32m     52\u001b[0m     enc_attention_weights\u001b[39m.\u001b[39mappend(attn_weights)\n\u001b[0;32m     54\u001b[0m \u001b[39mreturn\u001b[39;00m enc_output, enc_attention_weights\n",
      "File \u001b[1;32mc:\\Users\\reidp\\miniconda3\\envs\\torch_gpu\\lib\\site-packages\\torch\\nn\\modules\\module.py:1501\u001b[0m, in \u001b[0;36mModule._call_impl\u001b[1;34m(self, *args, **kwargs)\u001b[0m\n\u001b[0;32m   1496\u001b[0m \u001b[39m# If we don't have any hooks, we want to skip the rest of the logic in\u001b[39;00m\n\u001b[0;32m   1497\u001b[0m \u001b[39m# this function, and just call forward.\u001b[39;00m\n\u001b[0;32m   1498\u001b[0m \u001b[39mif\u001b[39;00m \u001b[39mnot\u001b[39;00m (\u001b[39mself\u001b[39m\u001b[39m.\u001b[39m_backward_hooks \u001b[39mor\u001b[39;00m \u001b[39mself\u001b[39m\u001b[39m.\u001b[39m_backward_pre_hooks \u001b[39mor\u001b[39;00m \u001b[39mself\u001b[39m\u001b[39m.\u001b[39m_forward_hooks \u001b[39mor\u001b[39;00m \u001b[39mself\u001b[39m\u001b[39m.\u001b[39m_forward_pre_hooks\n\u001b[0;32m   1499\u001b[0m         \u001b[39mor\u001b[39;00m _global_backward_pre_hooks \u001b[39mor\u001b[39;00m _global_backward_hooks\n\u001b[0;32m   1500\u001b[0m         \u001b[39mor\u001b[39;00m _global_forward_hooks \u001b[39mor\u001b[39;00m _global_forward_pre_hooks):\n\u001b[1;32m-> 1501\u001b[0m     \u001b[39mreturn\u001b[39;00m forward_call(\u001b[39m*\u001b[39margs, \u001b[39m*\u001b[39m\u001b[39m*\u001b[39mkwargs)\n\u001b[0;32m   1502\u001b[0m \u001b[39m# Do not call functions when jit is used\u001b[39;00m\n\u001b[0;32m   1503\u001b[0m full_backward_hooks, non_full_backward_hooks \u001b[39m=\u001b[39m [], []\n",
      "File \u001b[1;32mc:\\Users\\reidp\\Documents\\pytorch-transformer-implementation\\transformer_v2.py:157\u001b[0m, in \u001b[0;36mEncoderLayer.forward\u001b[1;34m(self, x, mask)\u001b[0m\n\u001b[0;32m    155\u001b[0m \u001b[39mdef\u001b[39;00m \u001b[39mforward\u001b[39m(\u001b[39mself\u001b[39m, x, mask):\n\u001b[0;32m    156\u001b[0m     \u001b[39m# Apply self-attention + Add & Norm\u001b[39;00m\n\u001b[1;32m--> 157\u001b[0m     x, attn_weights\u001b[39m=\u001b[39m \u001b[39mself\u001b[39;49m\u001b[39m.\u001b[39;49mself_attention(x, mask)\n\u001b[0;32m    159\u001b[0m     \u001b[39m# Apply position-wise feed-forward network + Add & Norm\u001b[39;00m\n\u001b[0;32m    160\u001b[0m     x \u001b[39m=\u001b[39m \u001b[39mself\u001b[39m\u001b[39m.\u001b[39mpositionwise_feedforward(x)\n",
      "File \u001b[1;32mc:\\Users\\reidp\\Documents\\pytorch-transformer-implementation\\transformer_v2.py:142\u001b[0m, in \u001b[0;36mEncoderLayer.self_attention\u001b[1;34m(self, x, mask)\u001b[0m\n\u001b[0;32m    139\u001b[0m \u001b[39mdef\u001b[39;00m \u001b[39mself_attention\u001b[39m(\u001b[39mself\u001b[39m, x, mask):\n\u001b[0;32m    140\u001b[0m \n\u001b[0;32m    141\u001b[0m     \u001b[39m# Perform self-attention on the input\u001b[39;00m\n\u001b[1;32m--> 142\u001b[0m     attn_output, attn_weights \u001b[39m=\u001b[39m \u001b[39mself\u001b[39;49m\u001b[39m.\u001b[39;49mself_attn(x, x, x, mask)\n\u001b[0;32m    144\u001b[0m     \u001b[39m# Add & Norm self-attention output + \"x\", input\u001b[39;00m\n\u001b[0;32m    145\u001b[0m     \u001b[39mreturn\u001b[39;00m \u001b[39mself\u001b[39m\u001b[39m.\u001b[39mlayer_norm1(x \u001b[39m+\u001b[39m \u001b[39mself\u001b[39m\u001b[39m.\u001b[39mdropout(attn_output)), attn_weights\n",
      "File \u001b[1;32mc:\\Users\\reidp\\miniconda3\\envs\\torch_gpu\\lib\\site-packages\\torch\\nn\\modules\\module.py:1501\u001b[0m, in \u001b[0;36mModule._call_impl\u001b[1;34m(self, *args, **kwargs)\u001b[0m\n\u001b[0;32m   1496\u001b[0m \u001b[39m# If we don't have any hooks, we want to skip the rest of the logic in\u001b[39;00m\n\u001b[0;32m   1497\u001b[0m \u001b[39m# this function, and just call forward.\u001b[39;00m\n\u001b[0;32m   1498\u001b[0m \u001b[39mif\u001b[39;00m \u001b[39mnot\u001b[39;00m (\u001b[39mself\u001b[39m\u001b[39m.\u001b[39m_backward_hooks \u001b[39mor\u001b[39;00m \u001b[39mself\u001b[39m\u001b[39m.\u001b[39m_backward_pre_hooks \u001b[39mor\u001b[39;00m \u001b[39mself\u001b[39m\u001b[39m.\u001b[39m_forward_hooks \u001b[39mor\u001b[39;00m \u001b[39mself\u001b[39m\u001b[39m.\u001b[39m_forward_pre_hooks\n\u001b[0;32m   1499\u001b[0m         \u001b[39mor\u001b[39;00m _global_backward_pre_hooks \u001b[39mor\u001b[39;00m _global_backward_hooks\n\u001b[0;32m   1500\u001b[0m         \u001b[39mor\u001b[39;00m _global_forward_hooks \u001b[39mor\u001b[39;00m _global_forward_pre_hooks):\n\u001b[1;32m-> 1501\u001b[0m     \u001b[39mreturn\u001b[39;00m forward_call(\u001b[39m*\u001b[39margs, \u001b[39m*\u001b[39m\u001b[39m*\u001b[39mkwargs)\n\u001b[0;32m   1502\u001b[0m \u001b[39m# Do not call functions when jit is used\u001b[39;00m\n\u001b[0;32m   1503\u001b[0m full_backward_hooks, non_full_backward_hooks \u001b[39m=\u001b[39m [], []\n",
      "File \u001b[1;32mc:\\Users\\reidp\\Documents\\pytorch-transformer-implementation\\transformer_v2.py:246\u001b[0m, in \u001b[0;36mMultiHeadAttention.forward\u001b[1;34m(self, q, k, v, mask)\u001b[0m\n\u001b[0;32m    243\u001b[0m v \u001b[39m=\u001b[39m \u001b[39mself\u001b[39m\u001b[39m.\u001b[39msplit_heads(v)\n\u001b[0;32m    245\u001b[0m \u001b[39m# Perform scaled dot-product attention\u001b[39;00m\n\u001b[1;32m--> 246\u001b[0m attn_output, attn_weights \u001b[39m=\u001b[39m \u001b[39mself\u001b[39;49m\u001b[39m.\u001b[39;49mscaled_dot_product_attention(q, k, v, mask)\n\u001b[0;32m    248\u001b[0m \u001b[39mif\u001b[39;00m \u001b[39mself\u001b[39m\u001b[39m.\u001b[39mstore_attention_weights:\n\u001b[0;32m    249\u001b[0m     \u001b[39mself\u001b[39m\u001b[39m.\u001b[39mattention_weights \u001b[39m=\u001b[39m attn_weights\u001b[39m.\u001b[39mclone()\n",
      "File \u001b[1;32mc:\\Users\\reidp\\Documents\\pytorch-transformer-implementation\\transformer_v2.py:230\u001b[0m, in \u001b[0;36mMultiHeadAttention.scaled_dot_product_attention\u001b[1;34m(self, q, k, v, mask)\u001b[0m\n\u001b[0;32m    227\u001b[0m attn_weights \u001b[39m=\u001b[39m \u001b[39mself\u001b[39m\u001b[39m.\u001b[39mdropout(attn_weights)\n\u001b[0;32m    229\u001b[0m \u001b[39m# Multiply weights by the values\u001b[39;00m\n\u001b[1;32m--> 230\u001b[0m \u001b[39mreturn\u001b[39;00m torch\u001b[39m.\u001b[39;49mmatmul(attn_weights, v), attn_weights\n",
      "\u001b[1;31mKeyboardInterrupt\u001b[0m: "
     ]
    }
   ],
   "source": [
    "train(model, train_dataloader, test_dataloader, criterion, optimizer, scheduler, num_epochs, pad_idx_src, pad_idx_tgt, tgt_vocab, device)"
   ]
  },
  {
   "cell_type": "code",
   "execution_count": null,
   "metadata": {},
   "outputs": [],
   "source": []
  }
 ],
 "metadata": {
  "kernelspec": {
   "display_name": "torch_gpu",
   "language": "python",
   "name": "python3"
  },
  "language_info": {
   "codemirror_mode": {
    "name": "ipython",
    "version": 3
   },
   "file_extension": ".py",
   "mimetype": "text/x-python",
   "name": "python",
   "nbconvert_exporter": "python",
   "pygments_lexer": "ipython3",
   "version": "3.10.9"
  },
  "orig_nbformat": 4
 },
 "nbformat": 4,
 "nbformat_minor": 2
}
