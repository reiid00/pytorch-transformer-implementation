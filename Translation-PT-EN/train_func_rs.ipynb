{
 "cells": [
  {
   "cell_type": "code",
   "execution_count": 1,
   "metadata": {},
   "outputs": [],
   "source": [
    "import os\n",
    "import sys\n",
    "sys.path.insert(1, os.path.abspath(os.path.join(os.path.dirname(f'..{os.sep}utils'))))\n",
    "sys.path.insert(1, os.path.abspath(os.path.join(os.path.dirname( '..'))))\n",
    "from utils.constants import *\n",
    "import torch\n",
    "import torch.nn as nn\n",
    "from transformer_v2 import Transformer\n",
    "from utils.function_utils import *\n",
    "from func_load_model_old import *\n",
    "from utils.optimizer_n_scheduler import *\n",
    "from utils.logging_tensorboard import create_summary_writer, log_loss, log_learning_rate, log_gradients, log_attention_weights\n",
    "from utils.distributions import *\n",
    "from torch.cuda.amp import GradScaler, autocast\n",
    "from data_funcs import *"
   ]
  },
  {
   "cell_type": "code",
   "execution_count": 2,
   "metadata": {},
   "outputs": [],
   "source": [
    "num_workers = os.cpu_count()"
   ]
  },
  {
   "cell_type": "code",
   "execution_count": 3,
   "metadata": {},
   "outputs": [
    {
     "name": "stdout",
     "output_type": "stream",
     "text": [
      "Sat Apr 29 16:21:04 2023       \n",
      "+---------------------------------------------------------------------------------------+\n",
      "| NVIDIA-SMI 531.14                 Driver Version: 531.14       CUDA Version: 12.1     |\n",
      "|-----------------------------------------+----------------------+----------------------+\n",
      "| GPU  Name                      TCC/WDDM | Bus-Id        Disp.A | Volatile Uncorr. ECC |\n",
      "| Fan  Temp  Perf            Pwr:Usage/Cap|         Memory-Usage | GPU-Util  Compute M. |\n",
      "|                                         |                      |               MIG M. |\n",
      "|=========================================+======================+======================|\n",
      "|   0  NVIDIA GeForce RTX 3060 Ti    WDDM | 00000000:29:00.0  On |                  N/A |\n",
      "| 30%   38C    P0               43W / 200W|    452MiB /  8192MiB |      2%      Default |\n",
      "|                                         |                      |                  N/A |\n",
      "+-----------------------------------------+----------------------+----------------------+\n",
      "                                                                                         \n",
      "+---------------------------------------------------------------------------------------+\n",
      "| Processes:                                                                            |\n",
      "|  GPU   GI   CI        PID   Type   Process name                            GPU Memory |\n",
      "|        ID   ID                                                             Usage      |\n",
      "|=======================================================================================|\n",
      "|    0   N/A  N/A      4504    C+G   C:\\Windows\\explorer.exe                   N/A      |\n",
      "|    0   N/A  N/A      8560    C+G   ...CBS_cw5n1h2txyewy\\TextInputHost.exe    N/A      |\n",
      "|    0   N/A  N/A      8584    C+G   ...siveControlPanel\\SystemSettings.exe    N/A      |\n",
      "|    0   N/A  N/A      9460    C+G   ...nt.CBS_cw5n1h2txyewy\\SearchHost.exe    N/A      |\n",
      "|    0   N/A  N/A      9604    C+G   ...al\\Discord\\app-1.0.9012\\Discord.exe    N/A      |\n",
      "|    0   N/A  N/A      9796    C+G   ...oogle\\Chrome\\Application\\chrome.exe    N/A      |\n",
      "|    0   N/A  N/A     10292    C+G   ...2txyewy\\StartMenuExperienceHost.exe    N/A      |\n",
      "|    0   N/A  N/A     12332    C+G   ...Programs\\Microsoft VS Code\\Code.exe    N/A      |\n",
      "|    0   N/A  N/A     16712    C+G   ...GeForce Experience\\NVIDIA Share.exe    N/A      |\n",
      "|    0   N/A  N/A     17044    C+G   ...__8wekyb3d8bbwe\\Notepad\\Notepad.exe    N/A      |\n",
      "|    0   N/A  N/A     17192    C+G   ...60.0_x86__zpdnekdrzrea0\\Spotify.exe    N/A      |\n",
      "|    0   N/A  N/A     17924    C+G   ...1.0_x64__8wekyb3d8bbwe\\Video.UI.exe    N/A      |\n",
      "|    0   N/A  N/A     19156    C+G   ...GeForce Experience\\NVIDIA Share.exe    N/A      |\n",
      "+---------------------------------------------------------------------------------------+\n"
     ]
    }
   ],
   "source": [
    "!nvidia-smi"
   ]
  },
  {
   "cell_type": "code",
   "execution_count": 4,
   "metadata": {},
   "outputs": [],
   "source": [
    "device = torch.device(\"cuda\" if torch.cuda.is_available() else \"cpu\")\n",
    "\n",
    "batch_size = 16\n",
    "max_len = MODEL_MAX_SEQ_LEN\n",
    "d_model = MODEL_DIM\n",
    "num_layers = MODEL_N_LAYERS\n",
    "num_heads = MODEL_N_HEADS\n",
    "dropout = MODEL_DROPOUT\n",
    "num_epochs = 10\n",
    "learning_rate = 1e-4\n",
    "warmup_steps = 2000\n",
    "weight_decay = 1e-4\n",
    "VOCAB_SIZE = 64_000\n",
    "d_ff = MODEL_FF\n",
    "label_smoothing = MODEL_LABEL_SMOTHING\n",
    "FILE_PATH = 'data/en-pt.txt'\n",
    "NUM_PHRASES = 10_000\n",
    "\n",
    "n=1\n",
    "LOGGING_FILE = f'runs{os.sep}translation_experiment_{n}'"
   ]
  },
  {
   "attachments": {},
   "cell_type": "markdown",
   "metadata": {},
   "source": [
    "## OLD-PREPROCESSING"
   ]
  },
  {
   "cell_type": "code",
   "execution_count": 5,
   "metadata": {},
   "outputs": [],
   "source": [
    "tokenizer = load_tokenizer()\n",
    "model = Transformer(VOCAB_SIZE,\n",
    "                    VOCAB_SIZE, \n",
    "                    d_model, \n",
    "                    num_heads, \n",
    "                    num_layers, \n",
    "                    d_ff, \n",
    "                    dropout, \n",
    "                    max_len).to(device)"
   ]
  },
  {
   "cell_type": "code",
   "execution_count": 6,
   "metadata": {},
   "outputs": [],
   "source": [
    "optimizer, scheduler = create_optimizer_and_scheduler(model, d_model, warmup_steps, learning_rate, weight_decay)"
   ]
  },
  {
   "cell_type": "code",
   "execution_count": 7,
   "metadata": {},
   "outputs": [],
   "source": [
    "writer = create_summary_writer(LOGGING_FILE)"
   ]
  },
  {
   "cell_type": "code",
   "execution_count": 8,
   "metadata": {},
   "outputs": [],
   "source": [
    "sentence_pairs = load_dataset(FILE_PATH, limit=NUM_PHRASES)\n",
    "preprocessed_pairs = [(preprocess_text(en), preprocess_text(pt)) for en, pt in sentence_pairs]\n",
    "split_idx = int(len(preprocessed_pairs) * 0.9)\n",
    "train_sentence_pairs = preprocessed_pairs[:split_idx]\n",
    "val_sentence_pairs = preprocessed_pairs[split_idx:]"
   ]
  },
  {
   "cell_type": "code",
   "execution_count": 9,
   "metadata": {},
   "outputs": [],
   "source": [
    "train_dataset = preprocess_data(train_sentence_pairs, tokenizer, max_len)\n",
    "val_dataset = preprocess_data(val_sentence_pairs, tokenizer, max_len)"
   ]
  },
  {
   "cell_type": "code",
   "execution_count": 10,
   "metadata": {},
   "outputs": [],
   "source": [
    "train_dataloader = create_dataloader(train_dataset, batch_size, tokenizer, shuffle=True, num_workers=num_workers)\n",
    "val_dataloader = create_dataloader(val_dataset, batch_size, tokenizer, shuffle=False, num_workers=num_workers)"
   ]
  },
  {
   "cell_type": "code",
   "execution_count": 11,
   "metadata": {},
   "outputs": [],
   "source": [
    "pad_idx = tokenizer.token_to_id(\"<pad>\")\n",
    "criterion = LabelSmoothingKLDivergenceLoss(label_smoothing, VOCAB_SIZE, ignore_index=pad_idx)"
   ]
  },
  {
   "cell_type": "code",
   "execution_count": null,
   "metadata": {},
   "outputs": [],
   "source": [
    "def train(model, train_loader, val_loader, criterion, optimizer, scheduler, num_epochs, tgt_vocab, pad_idx, device, log_interval=100):\n",
    "    global_step = 0\n",
    "    accumulation_steps = 4\n",
    "    for epoch in range(num_epochs):\n",
    "        print('Starting epoch: ', epoch+1)\n",
    "        model.train()\n",
    "        accumulation_steps = 4\n",
    "        optimizer.zero_grad()\n",
    "        for batch_idx, (src, tgt) in enumerate(train_loader):\n",
    "            src, tgt = src.to(device), tgt.to(device)\n",
    "            src_mask, tgt_mask = generate_masks(src, tgt, pad_idx)\n",
    "            if batch_idx == 0: \n",
    "                _, enc_attention_weights, dec_self_attention_weights, dec_enc_attention_weights = model(src, tgt, src_mask, tgt_mask, return_attention=True)\n",
    "                attention_weights = {\n",
    "                    \"encoder\": enc_attention_weights,\n",
    "                    \"decoder_self\": dec_self_attention_weights,\n",
    "                    \"decoder_enc_dec\": dec_enc_attention_weights\n",
    "                }\n",
    "                log_attention_weights(writer, attention_weights, MODEL_N_LAYERS, MODEL_N_HEADS, global_step)\n",
    "\n",
    "            output = model(src, tgt, src_mask, tgt_mask)\n",
    "            _, loss = criterion(output, tgt)\n",
    "            loss.backward()\n",
    "            if (batch_idx + 1) % accumulation_steps == 0:\n",
    "                torch.nn.utils.clip_grad_norm_(model.parameters(), max_norm=1)\n",
    "                optimizer.step()\n",
    "                scheduler.step()\n",
    "                optimizer.zero_grad()\n",
    "            # Log loss, learning rate, weights, and attention weights to TensorBoard\n",
    "            log_loss(writer, loss, global_step)\n",
    "            log_learning_rate(writer, scheduler.learning_rate(), global_step)\n",
    "            global_step += 1\n",
    "\n",
    "            if (batch_idx + 1) % 10 == 0:\n",
    "                print(f\"Epoch {epoch + 1}/{num_epochs} | Batch {batch_idx + 1}/{len(train_loader)} | Train Loss: {loss.item():.4f}\")\n",
    "            \n",
    "\n",
    "\n",
    "        # Evaluate the model on the validation set after each epoch\n",
    "        val_loss = evaluate_model(model, val_loader, criterion, device, pad_idx)\n",
    "        print(f\"Epoch: {epoch + 1} | Validation Loss: {val_loss:.4f}\")\n",
    "\n",
    "        #TODO: Implement model forward function withouth tgt_mask\n",
    "        # May use greedy decoding or beam search\n",
    "        \n",
    "        #bleu_score = evaluate_metrics(model, val_loader, pad_idx, tokenizer, device)\n",
    "        #print(f\"Epoch: {epoch + 1}, BLEU Score: {bleu_score:.4f}\")\n",
    "\n",
    "        # Save the model checkpoint after each epoch\n",
    "        save_checkpoint(model, optimizer, scheduler, epoch, f\"checkpoints{os.sep}checkpoint_epoch_{epoch+1}_val_loss_{val_loss:.4f}.pt\")"
   ]
  },
  {
   "cell_type": "code",
   "execution_count": null,
   "metadata": {},
   "outputs": [],
   "source": [
    "train(model, train_dataloader, val_dataloader, criterion, optimizer, scheduler, num_epochs, VOCAB_SIZE, VOCAB_SIZE, device)"
   ]
  },
  {
   "attachments": {},
   "cell_type": "markdown",
   "metadata": {},
   "source": [
    "## NEW-PREPROCESSING"
   ]
  },
  {
   "cell_type": "code",
   "execution_count": 5,
   "metadata": {},
   "outputs": [],
   "source": [
    "train_dataloader, test_dataloader, pad_idx_src, pad_idx_tgt, src_vocab, tgt_vocab = load_data(FILE_PATH, language_direction = LanguageDirection.PT2EN.name, limit = NUM_PHRASES, batch_size = batch_size, max_len = max_len)"
   ]
  },
  {
   "cell_type": "code",
   "execution_count": 6,
   "metadata": {},
   "outputs": [],
   "source": [
    "model = Transformer(len(src_vocab),\n",
    "                    len(tgt_vocab), \n",
    "                    d_model, \n",
    "                    num_heads, \n",
    "                    num_layers, \n",
    "                    d_ff, \n",
    "                    dropout, \n",
    "                    max_len).to(device)\n",
    "optimizer, scheduler = create_optimizer_and_scheduler(model, d_model, warmup_steps, learning_rate, weight_decay)\n",
    "writer = create_summary_writer(LOGGING_FILE)\n",
    "criterion = LabelSmoothingKLDivergenceLoss(label_smoothing, len(tgt_vocab), ignore_index=pad_idx_tgt)"
   ]
  },
  {
   "cell_type": "code",
   "execution_count": 7,
   "metadata": {},
   "outputs": [],
   "source": [
    "def train(model, train_loader, val_loader, criterion, optimizer, scheduler, num_epochs, pad_idx_src,pad_idx_tgt, device, log_interval=100):\n",
    "    global_step = 0\n",
    "    accumulation_steps = 4\n",
    "    for epoch in range(num_epochs):\n",
    "        print('Starting epoch: ', epoch+1)\n",
    "        model.train()\n",
    "        accumulation_steps = 4\n",
    "        optimizer.zero_grad()\n",
    "        for batch_idx, (src, tgt) in enumerate(train_loader):\n",
    "            src, tgt = src.to(device), tgt.to(device)\n",
    "            src_mask, tgt_mask = generate_masks_new(src, tgt, pad_idx_src, pad_idx_tgt)\n",
    "            if batch_idx == 0: \n",
    "                _, enc_attention_weights, dec_self_attention_weights, dec_enc_attention_weights = model(src, tgt, src_mask, tgt_mask, return_attention=True)\n",
    "                attention_weights = {\n",
    "                    \"encoder\": enc_attention_weights,\n",
    "                    \"decoder_self\": dec_self_attention_weights,\n",
    "                    \"decoder_enc_dec\": dec_enc_attention_weights\n",
    "                }\n",
    "                log_attention_weights(writer, attention_weights, MODEL_N_LAYERS, MODEL_N_HEADS, global_step)\n",
    "\n",
    "            output = model(src, tgt, src_mask, tgt_mask)\n",
    "            _, loss = criterion(output, tgt)\n",
    "            loss.backward()\n",
    "            if (batch_idx + 1) % accumulation_steps == 0:\n",
    "                torch.nn.utils.clip_grad_norm_(model.parameters(), max_norm=1)\n",
    "                optimizer.step()\n",
    "                scheduler.step()\n",
    "                optimizer.zero_grad()\n",
    "                # Log loss, learning rate, weights, and attention weights to TensorBoard\n",
    "                log_loss(writer, loss, global_step)\n",
    "                log_learning_rate(writer, scheduler.learning_rate(), global_step)\n",
    "            global_step += 1\n",
    "\n",
    "            if (batch_idx + 1) % 10 == 0:\n",
    "                print(f\"Epoch {epoch + 1}/{num_epochs} | Batch {batch_idx + 1}/{len(train_loader)} | Train Loss: {loss.item():.4f}\")\n",
    "            \n",
    "\n",
    "\n",
    "        # Evaluate the model on the validation set after each epoch\n",
    "        val_loss = evaluate_model(model, val_loader, criterion, device, pad_idx_src, pad_idx_tgt)\n",
    "        print(f\"Epoch: {epoch + 1} | Validation Loss: {val_loss:.4f}\")\n",
    "\n",
    "        #TODO: Implement model forward function withouth tgt_mask\n",
    "        # May use greedy decoding or beam search\n",
    "        \n",
    "        #bleu_score = evaluate_metrics(model, val_loader, pad_idx, tokenizer, device)\n",
    "        #print(f\"Epoch: {epoch + 1}, BLEU Score: {bleu_score:.4f}\")\n",
    "\n",
    "        # Save the model checkpoint after each epoch\n",
    "        save_checkpoint(model, optimizer, scheduler, epoch, f\"checkpoints{os.sep}checkpoint_epoch_{epoch+1}_val_loss_{val_loss:.4f}.pt\")"
   ]
  },
  {
   "cell_type": "code",
   "execution_count": 8,
   "metadata": {},
   "outputs": [
    {
     "name": "stdout",
     "output_type": "stream",
     "text": [
      "Starting epoch:  1\n",
      "Epoch 1/10 | Batch 10/500 | Train Loss: 8.7313\n",
      "Epoch 1/10 | Batch 20/500 | Train Loss: 8.7169\n",
      "Epoch 1/10 | Batch 30/500 | Train Loss: 8.7016\n",
      "Epoch 1/10 | Batch 40/500 | Train Loss: 8.6893\n",
      "Epoch 1/10 | Batch 50/500 | Train Loss: 8.6937\n",
      "Epoch 1/10 | Batch 60/500 | Train Loss: 8.6681\n",
      "Epoch 1/10 | Batch 70/500 | Train Loss: 8.6381\n",
      "Epoch 1/10 | Batch 80/500 | Train Loss: 8.6179\n",
      "Epoch 1/10 | Batch 90/500 | Train Loss: 8.5976\n",
      "Epoch 1/10 | Batch 100/500 | Train Loss: 8.5671\n",
      "Epoch 1/10 | Batch 110/500 | Train Loss: 8.5401\n",
      "Epoch 1/10 | Batch 120/500 | Train Loss: 8.5310\n",
      "Epoch 1/10 | Batch 130/500 | Train Loss: 8.4791\n",
      "Epoch 1/10 | Batch 140/500 | Train Loss: 8.4475\n",
      "Epoch 1/10 | Batch 150/500 | Train Loss: 8.4205\n",
      "Epoch 1/10 | Batch 160/500 | Train Loss: 8.4125\n",
      "Epoch 1/10 | Batch 170/500 | Train Loss: 8.3555\n",
      "Epoch 1/10 | Batch 180/500 | Train Loss: 8.3540\n",
      "Epoch 1/10 | Batch 190/500 | Train Loss: 8.3269\n",
      "Epoch 1/10 | Batch 200/500 | Train Loss: 8.3342\n",
      "Epoch 1/10 | Batch 210/500 | Train Loss: 8.2503\n",
      "Epoch 1/10 | Batch 220/500 | Train Loss: 8.2486\n",
      "Epoch 1/10 | Batch 230/500 | Train Loss: 8.2103\n",
      "Epoch 1/10 | Batch 240/500 | Train Loss: 8.1587\n",
      "Epoch 1/10 | Batch 250/500 | Train Loss: 8.1010\n",
      "Epoch 1/10 | Batch 260/500 | Train Loss: 8.1127\n",
      "Epoch 1/10 | Batch 270/500 | Train Loss: 8.1484\n",
      "Epoch 1/10 | Batch 280/500 | Train Loss: 8.0011\n",
      "Epoch 1/10 | Batch 290/500 | Train Loss: 7.9017\n",
      "Epoch 1/10 | Batch 300/500 | Train Loss: 7.9853\n",
      "Epoch 1/10 | Batch 310/500 | Train Loss: 7.8905\n",
      "Epoch 1/10 | Batch 320/500 | Train Loss: 7.8791\n",
      "Epoch 1/10 | Batch 330/500 | Train Loss: 7.8062\n",
      "Epoch 1/10 | Batch 340/500 | Train Loss: 7.7288\n",
      "Epoch 1/10 | Batch 350/500 | Train Loss: 7.7614\n",
      "Epoch 1/10 | Batch 360/500 | Train Loss: 7.6073\n",
      "Epoch 1/10 | Batch 370/500 | Train Loss: 7.7081\n",
      "Epoch 1/10 | Batch 380/500 | Train Loss: 7.7320\n",
      "Epoch 1/10 | Batch 390/500 | Train Loss: 7.5289\n",
      "Epoch 1/10 | Batch 400/500 | Train Loss: 7.5655\n",
      "Epoch 1/10 | Batch 410/500 | Train Loss: 7.4948\n",
      "Epoch 1/10 | Batch 420/500 | Train Loss: 7.4746\n",
      "Epoch 1/10 | Batch 430/500 | Train Loss: 7.5030\n",
      "Epoch 1/10 | Batch 440/500 | Train Loss: 7.3376\n",
      "Epoch 1/10 | Batch 450/500 | Train Loss: 7.2714\n",
      "Epoch 1/10 | Batch 460/500 | Train Loss: 7.1742\n",
      "Epoch 1/10 | Batch 470/500 | Train Loss: 7.2605\n",
      "Epoch 1/10 | Batch 480/500 | Train Loss: 7.3329\n",
      "Epoch 1/10 | Batch 490/500 | Train Loss: 7.1788\n",
      "Epoch 1/10 | Batch 500/500 | Train Loss: 7.0413\n"
     ]
    },
    {
     "ename": "NameError",
     "evalue": "name 'pad_idx' is not defined",
     "output_type": "error",
     "traceback": [
      "\u001b[1;31m---------------------------------------------------------------------------\u001b[0m",
      "\u001b[1;31mNameError\u001b[0m                                 Traceback (most recent call last)",
      "Cell \u001b[1;32mIn[8], line 1\u001b[0m\n\u001b[1;32m----> 1\u001b[0m train(model, train_dataloader, test_dataloader, criterion, optimizer, scheduler, num_epochs, pad_idx_src, pad_idx_tgt, device)\n",
      "Cell \u001b[1;32mIn[7], line 40\u001b[0m, in \u001b[0;36mtrain\u001b[1;34m(model, train_loader, val_loader, criterion, optimizer, scheduler, num_epochs, pad_idx_src, pad_idx_tgt, device, log_interval)\u001b[0m\n\u001b[0;32m     35\u001b[0m         \u001b[39mprint\u001b[39m(\u001b[39mf\u001b[39m\u001b[39m\"\u001b[39m\u001b[39mEpoch \u001b[39m\u001b[39m{\u001b[39;00mepoch\u001b[39m \u001b[39m\u001b[39m+\u001b[39m\u001b[39m \u001b[39m\u001b[39m1\u001b[39m\u001b[39m}\u001b[39;00m\u001b[39m/\u001b[39m\u001b[39m{\u001b[39;00mnum_epochs\u001b[39m}\u001b[39;00m\u001b[39m | Batch \u001b[39m\u001b[39m{\u001b[39;00mbatch_idx\u001b[39m \u001b[39m\u001b[39m+\u001b[39m\u001b[39m \u001b[39m\u001b[39m1\u001b[39m\u001b[39m}\u001b[39;00m\u001b[39m/\u001b[39m\u001b[39m{\u001b[39;00m\u001b[39mlen\u001b[39m(train_loader)\u001b[39m}\u001b[39;00m\u001b[39m | Train Loss: \u001b[39m\u001b[39m{\u001b[39;00mloss\u001b[39m.\u001b[39mitem()\u001b[39m:\u001b[39;00m\u001b[39m.4f\u001b[39m\u001b[39m}\u001b[39;00m\u001b[39m\"\u001b[39m)\n\u001b[0;32m     39\u001b[0m \u001b[39m# Evaluate the model on the validation set after each epoch\u001b[39;00m\n\u001b[1;32m---> 40\u001b[0m val_loss \u001b[39m=\u001b[39m evaluate_model(model, val_loader, criterion, device, pad_idx)\n\u001b[0;32m     41\u001b[0m \u001b[39mprint\u001b[39m(\u001b[39mf\u001b[39m\u001b[39m\"\u001b[39m\u001b[39mEpoch: \u001b[39m\u001b[39m{\u001b[39;00mepoch\u001b[39m \u001b[39m\u001b[39m+\u001b[39m\u001b[39m \u001b[39m\u001b[39m1\u001b[39m\u001b[39m}\u001b[39;00m\u001b[39m | Validation Loss: \u001b[39m\u001b[39m{\u001b[39;00mval_loss\u001b[39m:\u001b[39;00m\u001b[39m.4f\u001b[39m\u001b[39m}\u001b[39;00m\u001b[39m\"\u001b[39m)\n\u001b[0;32m     43\u001b[0m \u001b[39m#TODO: Implement model forward function withouth tgt_mask\u001b[39;00m\n\u001b[0;32m     44\u001b[0m \u001b[39m# May use greedy decoding or beam search\u001b[39;00m\n\u001b[0;32m     45\u001b[0m \n\u001b[1;32m   (...)\u001b[0m\n\u001b[0;32m     48\u001b[0m \n\u001b[0;32m     49\u001b[0m \u001b[39m# Save the model checkpoint after each epoch\u001b[39;00m\n",
      "\u001b[1;31mNameError\u001b[0m: name 'pad_idx' is not defined"
     ]
    }
   ],
   "source": [
    "train(model, train_dataloader, test_dataloader, criterion, optimizer, scheduler, num_epochs, pad_idx_src, pad_idx_tgt, device)"
   ]
  },
  {
   "cell_type": "code",
   "execution_count": null,
   "metadata": {},
   "outputs": [],
   "source": []
  }
 ],
 "metadata": {
  "kernelspec": {
   "display_name": "torch_gpu",
   "language": "python",
   "name": "python3"
  },
  "language_info": {
   "codemirror_mode": {
    "name": "ipython",
    "version": 3
   },
   "file_extension": ".py",
   "mimetype": "text/x-python",
   "name": "python",
   "nbconvert_exporter": "python",
   "pygments_lexer": "ipython3",
   "version": "3.10.9"
  },
  "orig_nbformat": 4
 },
 "nbformat": 4,
 "nbformat_minor": 2
}
