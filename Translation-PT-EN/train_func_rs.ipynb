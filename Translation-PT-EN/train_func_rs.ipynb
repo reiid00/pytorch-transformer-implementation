{
 "cells": [
  {
   "cell_type": "code",
   "execution_count": 1,
   "metadata": {},
   "outputs": [],
   "source": [
    "import os\n",
    "import sys\n",
    "sys.path.insert(1, os.path.abspath(os.path.join(os.path.dirname(f'..{os.sep}utils'))))\n",
    "sys.path.insert(1, os.path.abspath(os.path.join(os.path.dirname( '..'))))\n",
    "from utils.constants import *\n",
    "import torch\n",
    "import torch.nn as nn\n",
    "from transformer_v2 import Transformer\n",
    "from utils.function_utils import *\n",
    "from func_load_model_old import *\n",
    "from utils.optimizer_n_scheduler import *\n",
    "from utils.logging_tensorboard import create_summary_writer, log_loss, log_learning_rate, log_gradients, log_attention_weights\n",
    "from utils.distributions import *\n",
    "from torch.cuda.amp import GradScaler, autocast\n",
    "from data_funcs import *"
   ]
  },
  {
   "cell_type": "code",
   "execution_count": 2,
   "metadata": {},
   "outputs": [],
   "source": [
    "num_workers = os.cpu_count()"
   ]
  },
  {
   "cell_type": "code",
   "execution_count": 3,
   "metadata": {},
   "outputs": [
    {
     "name": "stdout",
     "output_type": "stream",
     "text": [
      "Thu May 18 18:52:00 2023       \n",
      "+---------------------------------------------------------------------------------------+\n",
      "| NVIDIA-SMI 531.14                 Driver Version: 531.14       CUDA Version: 12.1     |\n",
      "|-----------------------------------------+----------------------+----------------------+\n",
      "| GPU  Name                      TCC/WDDM | Bus-Id        Disp.A | Volatile Uncorr. ECC |\n",
      "| Fan  Temp  Perf            Pwr:Usage/Cap|         Memory-Usage | GPU-Util  Compute M. |\n",
      "|                                         |                      |               MIG M. |\n",
      "|=========================================+======================+======================|\n",
      "|   0  NVIDIA GeForce RTX 3060 Ti    WDDM | 00000000:29:00.0  On |                  N/A |\n",
      "| 30%   41C    P2               43W / 200W|   2600MiB /  8192MiB |      6%      Default |\n",
      "|                                         |                      |                  N/A |\n",
      "+-----------------------------------------+----------------------+----------------------+\n",
      "                                                                                         \n",
      "+---------------------------------------------------------------------------------------+\n",
      "| Processes:                                                                            |\n",
      "|  GPU   GI   CI        PID   Type   Process name                            GPU Memory |\n",
      "|        ID   ID                                                             Usage      |\n",
      "|=======================================================================================|\n",
      "|    0   N/A  N/A      4840    C+G   ...on\\113.0.1774.42\\msedgewebview2.exe    N/A      |\n",
      "|    0   N/A  N/A      7700    C+G   ...5n1h2txyewy\\ShellExperienceHost.exe    N/A      |\n",
      "|    0   N/A  N/A      8440    C+G   ...61.0_x64__8wekyb3d8bbwe\\GameBar.exe    N/A      |\n",
      "|    0   N/A  N/A      8816    C+G   ...al\\Discord\\app-1.0.9013\\Discord.exe    N/A      |\n",
      "|    0   N/A  N/A      9832    C+G   C:\\Windows\\explorer.exe                   N/A      |\n",
      "|    0   N/A  N/A     11068    C+G   ...nt.CBS_cw5n1h2txyewy\\SearchHost.exe    N/A      |\n",
      "|    0   N/A  N/A     11092    C+G   ...2txyewy\\StartMenuExperienceHost.exe    N/A      |\n",
      "|    0   N/A  N/A     12660    C+G   ...CBS_cw5n1h2txyewy\\TextInputHost.exe    N/A      |\n",
      "|    0   N/A  N/A     13096    C+G   ...GeForce Experience\\NVIDIA Share.exe    N/A      |\n",
      "|    0   N/A  N/A     13564    C+G   ...oogle\\Chrome\\Application\\chrome.exe    N/A      |\n",
      "|    0   N/A  N/A     13760    C+G   ...16.0_x86__zpdnekdrzrea0\\Spotify.exe    N/A      |\n",
      "|    0   N/A  N/A     14060    C+G   ...1.0_x64__8wekyb3d8bbwe\\Video.UI.exe    N/A      |\n",
      "|    0   N/A  N/A     15508    C+G   ...Programs\\Microsoft VS Code\\Code.exe    N/A      |\n",
      "|    0   N/A  N/A     16640    C+G   ...Desktop\\app-3.2.2\\GitHubDesktop.exe    N/A      |\n",
      "|    0   N/A  N/A     17364    C+G   ...siveControlPanel\\SystemSettings.exe    N/A      |\n",
      "|    0   N/A  N/A     17440      C   ...iniconda3\\envs\\torch_gpu\\python.exe    N/A      |\n",
      "+---------------------------------------------------------------------------------------+\n"
     ]
    }
   ],
   "source": [
    "!nvidia-smi"
   ]
  },
  {
   "cell_type": "code",
   "execution_count": 4,
   "metadata": {},
   "outputs": [],
   "source": [
    "device = torch.device(\"cuda\" if torch.cuda.is_available() else \"cpu\")\n",
    "\n",
    "batch_size = 16\n",
    "max_len = MODEL_MAX_SEQ_LEN\n",
    "d_model = MODEL_DIM\n",
    "num_layers = MODEL_N_LAYERS\n",
    "num_heads = MODEL_N_HEADS\n",
    "dropout = MODEL_DROPOUT\n",
    "num_epochs = 10\n",
    "learning_rate = 1e-4\n",
    "warmup_steps = 2000\n",
    "weight_decay = 1e-4\n",
    "VOCAB_SIZE = 64_000\n",
    "d_ff = MODEL_FF\n",
    "label_smoothing = MODEL_LABEL_SMOTHING\n",
    "FILE_PATH = 'data/en-pt.txt'\n",
    "NUM_PHRASES = 50_000\n",
    "\n",
    "n=2\n",
    "LOGGING_FILE = f'runs{os.sep}translation_experiment_{n}_num_phrases_{NUM_PHRASES}'\n",
    "\n",
    "CHECKPOINT_PATH = 'checkpoints/checkpoint_epoch_10_val_loss_3.4311.pt'\n"
   ]
  },
  {
   "attachments": {},
   "cell_type": "markdown",
   "metadata": {},
   "source": [
    "## OLD-PREPROCESSING"
   ]
  },
  {
   "cell_type": "code",
   "execution_count": 5,
   "metadata": {},
   "outputs": [],
   "source": [
    "tokenizer = load_tokenizer()\n",
    "model = Transformer(VOCAB_SIZE,\n",
    "                    VOCAB_SIZE, \n",
    "                    d_model, \n",
    "                    num_heads, \n",
    "                    num_layers, \n",
    "                    d_ff, \n",
    "                    dropout, \n",
    "                    max_len).to(device)"
   ]
  },
  {
   "cell_type": "code",
   "execution_count": 6,
   "metadata": {},
   "outputs": [],
   "source": [
    "optimizer, scheduler = create_optimizer_and_scheduler(model, d_model, warmup_steps, learning_rate, weight_decay)"
   ]
  },
  {
   "cell_type": "code",
   "execution_count": 7,
   "metadata": {},
   "outputs": [],
   "source": [
    "writer = create_summary_writer(LOGGING_FILE)"
   ]
  },
  {
   "cell_type": "code",
   "execution_count": 8,
   "metadata": {},
   "outputs": [],
   "source": [
    "sentence_pairs = load_dataset(FILE_PATH, limit=NUM_PHRASES)\n",
    "preprocessed_pairs = [(preprocess_text(en), preprocess_text(pt)) for en, pt in sentence_pairs]\n",
    "split_idx = int(len(preprocessed_pairs) * 0.9)\n",
    "train_sentence_pairs = preprocessed_pairs[:split_idx]\n",
    "val_sentence_pairs = preprocessed_pairs[split_idx:]"
   ]
  },
  {
   "cell_type": "code",
   "execution_count": 9,
   "metadata": {},
   "outputs": [],
   "source": [
    "train_dataset = preprocess_data(train_sentence_pairs, tokenizer, max_len)\n",
    "val_dataset = preprocess_data(val_sentence_pairs, tokenizer, max_len)"
   ]
  },
  {
   "cell_type": "code",
   "execution_count": 10,
   "metadata": {},
   "outputs": [],
   "source": [
    "train_dataloader = create_dataloader(train_dataset, batch_size, tokenizer, shuffle=True, num_workers=num_workers)\n",
    "val_dataloader = create_dataloader(val_dataset, batch_size, tokenizer, shuffle=False, num_workers=num_workers)"
   ]
  },
  {
   "cell_type": "code",
   "execution_count": 11,
   "metadata": {},
   "outputs": [],
   "source": [
    "pad_idx = tokenizer.token_to_id(\"<pad>\")\n",
    "criterion = LabelSmoothingKLDivergenceLoss(label_smoothing, VOCAB_SIZE, ignore_index=pad_idx)"
   ]
  },
  {
   "cell_type": "code",
   "execution_count": null,
   "metadata": {},
   "outputs": [],
   "source": [
    "def train(model, train_loader, val_loader, criterion, optimizer, scheduler, num_epochs, tgt_vocab, pad_idx, device, log_interval=100):\n",
    "    global_step = 0\n",
    "    accumulation_steps = 4\n",
    "    for epoch in range(num_epochs):\n",
    "        print('Starting epoch: ', epoch+1)\n",
    "        model.train()\n",
    "        accumulation_steps = 4\n",
    "        optimizer.zero_grad()\n",
    "        for batch_idx, (src, tgt) in enumerate(train_loader):\n",
    "            src, tgt = src.to(device), tgt.to(device)\n",
    "            src_mask, tgt_mask = generate_masks(src, tgt, pad_idx)\n",
    "            if batch_idx == 0: \n",
    "                _, enc_attention_weights, dec_self_attention_weights, dec_enc_attention_weights = model(src, tgt, src_mask, tgt_mask, return_attention=True)\n",
    "                attention_weights = {\n",
    "                    \"encoder\": enc_attention_weights,\n",
    "                    \"decoder_self\": dec_self_attention_weights,\n",
    "                    \"decoder_enc_dec\": dec_enc_attention_weights\n",
    "                }\n",
    "                log_attention_weights(writer, attention_weights, MODEL_N_LAYERS, MODEL_N_HEADS, global_step)\n",
    "\n",
    "            output = model(src, tgt, src_mask, tgt_mask)\n",
    "            _, loss = criterion(output, tgt)\n",
    "            loss.backward()\n",
    "            if (batch_idx + 1) % accumulation_steps == 0:\n",
    "                torch.nn.utils.clip_grad_norm_(model.parameters(), max_norm=1)\n",
    "                optimizer.step()\n",
    "                scheduler.step()\n",
    "                optimizer.zero_grad()\n",
    "            # Log loss, learning rate, weights, and attention weights to TensorBoard\n",
    "            log_loss(writer, loss, global_step)\n",
    "            log_learning_rate(writer, scheduler.learning_rate(), global_step)\n",
    "            global_step += 1\n",
    "\n",
    "            if (batch_idx + 1) % 10 == 0:\n",
    "                print(f\"Epoch {epoch + 1}/{num_epochs} | Batch {batch_idx + 1}/{len(train_loader)} | Train Loss: {loss.item():.4f}\")\n",
    "            \n",
    "\n",
    "\n",
    "        # Evaluate the model on the validation set after each epoch\n",
    "        val_loss = evaluate_model(model, val_loader, criterion, device, pad_idx)\n",
    "        print(f\"Epoch: {epoch + 1} | Validation Loss: {val_loss:.4f}\")\n",
    "        \n",
    "        bleu_score = evaluate_metrics(model, val_loader, pad_idx, tokenizer, device)\n",
    "        print(f\"Epoch: {epoch + 1}, BLEU Score: {bleu_score:.4f}\")\n",
    "\n",
    "        # Save the model checkpoint after each epoch\n",
    "        save_checkpoint(model, optimizer, scheduler, epoch, f\"checkpoints{os.sep}checkpoint_epoch_{epoch+1}_val_loss_{val_loss:.4f}.pt\")"
   ]
  },
  {
   "cell_type": "code",
   "execution_count": null,
   "metadata": {},
   "outputs": [],
   "source": [
    "train(model, train_dataloader, val_dataloader, criterion, optimizer, scheduler, num_epochs, VOCAB_SIZE, VOCAB_SIZE, device)"
   ]
  },
  {
   "attachments": {},
   "cell_type": "markdown",
   "metadata": {},
   "source": [
    "## NEW-PREPROCESSING"
   ]
  },
  {
   "cell_type": "code",
   "execution_count": 5,
   "metadata": {},
   "outputs": [],
   "source": [
    "train_dataloader, test_dataloader, pad_idx_src, pad_idx_tgt, src_vocab, tgt_vocab = load_data(FILE_PATH, language_direction = LanguageDirection.PT2EN.name, limit = NUM_PHRASES, batch_size = batch_size, max_len = max_len)"
   ]
  },
  {
   "cell_type": "code",
   "execution_count": 6,
   "metadata": {},
   "outputs": [],
   "source": [
    "model = Transformer(len(src_vocab),\n",
    "                    len(tgt_vocab), \n",
    "                    d_model, \n",
    "                    num_heads, \n",
    "                    num_layers, \n",
    "                    d_ff, \n",
    "                    dropout, \n",
    "                    max_len).to(device)\n",
    "optimizer, scheduler = create_optimizer_and_scheduler(model, d_model, warmup_steps, learning_rate, weight_decay)\n",
    "writer = create_summary_writer(LOGGING_FILE)\n",
    "criterion = LabelSmoothingKLDivergenceLoss(label_smoothing, len(tgt_vocab), ignore_index=pad_idx_tgt)"
   ]
  },
  {
   "cell_type": "code",
   "execution_count": 7,
   "metadata": {},
   "outputs": [],
   "source": [
    "model, optimizer, scheduler, epoch = load_checkpoint(model, optimizer, scheduler, CHECKPOINT_PATH)"
   ]
  },
  {
   "cell_type": "code",
   "execution_count": 8,
   "metadata": {},
   "outputs": [
    {
     "data": {
      "text/plain": [
       "Transformer(\n",
       "  (encoder_embedding): Embedding(53392, 128)\n",
       "  (decoder_embedding): Embedding(65396, 128)\n",
       "  (pos_encoding): PositionalEncoding()\n",
       "  (encoder_layers): ModuleList(\n",
       "    (0-5): 6 x EncoderLayer(\n",
       "      (self_attn): MultiHeadAttention(\n",
       "        (linear_q): Linear(in_features=128, out_features=128, bias=True)\n",
       "        (linear_k): Linear(in_features=128, out_features=128, bias=True)\n",
       "        (linear_v): Linear(in_features=128, out_features=128, bias=True)\n",
       "        (linear_out): Linear(in_features=128, out_features=128, bias=True)\n",
       "        (dropout): Dropout(p=0.1, inplace=False)\n",
       "      )\n",
       "      (feed_forward): PositionwiseFeedForward(\n",
       "        (linear1): Linear(in_features=128, out_features=512, bias=True)\n",
       "        (linear2): Linear(in_features=512, out_features=128, bias=True)\n",
       "      )\n",
       "      (layer_norm1): LayerNorm((128,), eps=1e-05, elementwise_affine=True)\n",
       "      (layer_norm2): LayerNorm((128,), eps=1e-05, elementwise_affine=True)\n",
       "      (dropout): Dropout(p=0.1, inplace=False)\n",
       "    )\n",
       "  )\n",
       "  (decoder_layers): ModuleList(\n",
       "    (0-5): 6 x DecoderLayer(\n",
       "      (self_attn): MultiHeadAttention(\n",
       "        (linear_q): Linear(in_features=128, out_features=128, bias=True)\n",
       "        (linear_k): Linear(in_features=128, out_features=128, bias=True)\n",
       "        (linear_v): Linear(in_features=128, out_features=128, bias=True)\n",
       "        (linear_out): Linear(in_features=128, out_features=128, bias=True)\n",
       "        (dropout): Dropout(p=0.1, inplace=False)\n",
       "      )\n",
       "      (cross_attn): MultiHeadAttention(\n",
       "        (linear_q): Linear(in_features=128, out_features=128, bias=True)\n",
       "        (linear_k): Linear(in_features=128, out_features=128, bias=True)\n",
       "        (linear_v): Linear(in_features=128, out_features=128, bias=True)\n",
       "        (linear_out): Linear(in_features=128, out_features=128, bias=True)\n",
       "        (dropout): Dropout(p=0.1, inplace=False)\n",
       "      )\n",
       "      (feed_forward): PositionwiseFeedForward(\n",
       "        (linear1): Linear(in_features=128, out_features=512, bias=True)\n",
       "        (linear2): Linear(in_features=512, out_features=128, bias=True)\n",
       "      )\n",
       "      (layer_norm1): LayerNorm((128,), eps=1e-05, elementwise_affine=True)\n",
       "      (layer_norm2): LayerNorm((128,), eps=1e-05, elementwise_affine=True)\n",
       "      (layer_norm3): LayerNorm((128,), eps=1e-05, elementwise_affine=True)\n",
       "      (dropout): Dropout(p=0.1, inplace=False)\n",
       "    )\n",
       "  )\n",
       "  (generator): Linear(in_features=128, out_features=65396, bias=True)\n",
       ")"
      ]
     },
     "execution_count": 8,
     "metadata": {},
     "output_type": "execute_result"
    }
   ],
   "source": [
    "model.eval()"
   ]
  },
  {
   "cell_type": "code",
   "execution_count": 9,
   "metadata": {},
   "outputs": [],
   "source": [
    "def train(model, train_loader, val_loader, criterion, optimizer, scheduler, num_epochs, pad_idx_src,pad_idx_tgt, tgt_vocab, device, log_interval=100):\n",
    "    global_step = 0\n",
    "    accumulation_steps = 4\n",
    "    for epoch in range(num_epochs):\n",
    "        print('Starting epoch: ', epoch+1)\n",
    "        model.train()\n",
    "        accumulation_steps = 4\n",
    "        optimizer.zero_grad()\n",
    "        for batch_idx, (src, tgt) in enumerate(train_loader):\n",
    "            src, tgt = src.to(device), tgt.to(device)\n",
    "            src_mask, tgt_mask = generate_masks_new(src, tgt, pad_idx_src, pad_idx_tgt)\n",
    "            #if batch_idx == 0: \n",
    "            #    _, enc_attention_weights, dec_self_attention_weights, dec_enc_attention_weights = model(src, tgt, src_mask, tgt_mask, return_attention=True)\n",
    "            #    attention_weights = {\n",
    "            #        \"encoder\": enc_attention_weights,\n",
    "            #        \"decoder_self\": dec_self_attention_weights,\n",
    "            #        \"decoder_enc_dec\": dec_enc_attention_weights\n",
    "            #    }\n",
    "                #log_attention_weights(writer, attention_weights, MODEL_N_LAYERS, MODEL_N_HEADS, global_step)\n",
    "\n",
    "            output = model(src, tgt, src_mask, tgt_mask)\n",
    "            _, loss = criterion(output, tgt)\n",
    "            loss.backward()\n",
    "            if (batch_idx + 1) % accumulation_steps == 0:\n",
    "                torch.nn.utils.clip_grad_norm_(model.parameters(), max_norm=1)\n",
    "                optimizer.step()\n",
    "                scheduler.step()\n",
    "                optimizer.zero_grad()\n",
    "                # Log loss, learning rate, weights, and attention weights to TensorBoard\n",
    "                log_loss(writer, loss, global_step)\n",
    "                log_learning_rate(writer, scheduler.learning_rate(), global_step)\n",
    "            global_step += 1\n",
    "\n",
    "            if (batch_idx + 1) % 1000 == 0:\n",
    "                print(f\"Epoch {epoch + 1}/{num_epochs} | Batch {batch_idx + 1}/{len(train_loader)} | Train Loss: {loss.item():.4f}\")\n",
    "            \n",
    "\n",
    "\n",
    "        # Evaluate the model on the validation set after each epoch\n",
    "        val_loss = evaluate_model(model, val_loader, criterion, device, pad_idx_src, pad_idx_tgt)\n",
    "        print(f\"Epoch: {epoch + 1} | Validation Loss: {val_loss:.4f}\")\n",
    "        \n",
    "        bleu_score = evaluate_metrics(model, val_loader, pad_idx_src, pad_idx_tgt, tgt_vocab, max_len, device)\n",
    "        print(f\"Epoch: {epoch + 1}, BLEU Score: {bleu_score:.4f}\")\n",
    "\n",
    "        # Save the model checkpoint after each epoch\n",
    "        save_checkpoint(model, optimizer, scheduler, epoch, f\"checkpoints{os.sep}checkpoint_epoch_{epoch+1}_val_loss_{val_loss:.4f}.pt\")"
   ]
  },
  {
   "cell_type": "code",
   "execution_count": 10,
   "metadata": {},
   "outputs": [
    {
     "name": "stdout",
     "output_type": "stream",
     "text": [
      "Starting epoch:  1\n",
      "Epoch 1/10 | Batch 1000/2500 | Train Loss: 2.9388\n",
      "Epoch 1/10 | Batch 2000/2500 | Train Loss: 3.0774\n",
      "Epoch: 1 | Validation Loss: 2.9809\n",
      "Epoch: 1, BLEU Score: 0.0001\n",
      "Starting epoch:  2\n"
     ]
    }
   ],
   "source": [
    "train(model, train_dataloader, test_dataloader, criterion, optimizer, scheduler, num_epochs, pad_idx_src, pad_idx_tgt, tgt_vocab, device)"
   ]
  },
  {
   "cell_type": "code",
   "execution_count": null,
   "metadata": {},
   "outputs": [],
   "source": []
  }
 ],
 "metadata": {
  "kernelspec": {
   "display_name": "torch_gpu",
   "language": "python",
   "name": "python3"
  },
  "language_info": {
   "codemirror_mode": {
    "name": "ipython",
    "version": 3
   },
   "file_extension": ".py",
   "mimetype": "text/x-python",
   "name": "python",
   "nbconvert_exporter": "python",
   "pygments_lexer": "ipython3",
   "version": "3.10.9"
  },
  "orig_nbformat": 4
 },
 "nbformat": 4,
 "nbformat_minor": 2
}
