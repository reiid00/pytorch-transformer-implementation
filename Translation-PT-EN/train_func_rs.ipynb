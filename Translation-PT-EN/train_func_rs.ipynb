{
 "cells": [
  {
   "cell_type": "code",
   "execution_count": 1,
   "metadata": {},
   "outputs": [],
   "source": [
    "import os\n",
    "import sys\n",
    "sys.path.insert(1, os.path.abspath(os.path.join(os.path.dirname(f'..{os.sep}utils'))))\n",
    "sys.path.insert(1, os.path.abspath(os.path.join(os.path.dirname( '..'))))\n",
    "from utils.constants import *\n",
    "import torch\n",
    "import torch.nn as nn\n",
    "from transformer_v2 import Transformer\n",
    "from utils.function_utils import *\n",
    "from func_load_model import *\n",
    "from utils.optimizer_n_scheduler import *\n",
    "from utils.logging_tensorboard import create_summary_writer, log_loss, log_learning_rate, log_gradients, log_attention_weights\n",
    "from utils.distributions import *"
   ]
  },
  {
   "cell_type": "code",
   "execution_count": 2,
   "metadata": {},
   "outputs": [],
   "source": [
    "device = torch.device(\"cuda\" if torch.cuda.is_available() else \"cpu\")\n",
    "\n",
    "batch_size = 64\n",
    "max_len = MODEL_MAX_SEQ_LEN\n",
    "d_model = MODEL_DIM\n",
    "num_layers = MODEL_N_LAYERS\n",
    "num_heads = MODEL_N_HEADS\n",
    "dropout = MODEL_DROPOUT\n",
    "num_epochs = 10\n",
    "learning_rate = 1e-4\n",
    "warmup_steps = 2000\n",
    "weight_decay = 1e-4\n",
    "VOCAB_SIZE = 32_000\n",
    "d_ff = MODEL_FF\n",
    "label_smoothing = MODEL_LABEL_SMOTHING\n",
    "\n",
    "NUM_PHRASES = 1_000_000\n",
    "\n",
    "n=0\n",
    "LOGGING_FILE = f'runs{os.sep}translation_experiment_{n}'"
   ]
  },
  {
   "cell_type": "code",
   "execution_count": 3,
   "metadata": {},
   "outputs": [],
   "source": [
    "tokenizer = load_tokenizer()\n",
    "model = Transformer(VOCAB_SIZE,\n",
    "                    VOCAB_SIZE, \n",
    "                    d_model, \n",
    "                    num_heads, \n",
    "                    num_layers, \n",
    "                    d_ff, \n",
    "                    dropout, \n",
    "                    max_len).to(device)"
   ]
  },
  {
   "cell_type": "code",
   "execution_count": 4,
   "metadata": {},
   "outputs": [],
   "source": [
    "optimizer, scheduler = create_optimizer_and_scheduler(model, d_model, warmup_steps, learning_rate, weight_decay)"
   ]
  },
  {
   "cell_type": "code",
   "execution_count": 5,
   "metadata": {},
   "outputs": [],
   "source": [
    "writer = create_summary_writer(LOGGING_FILE)"
   ]
  },
  {
   "cell_type": "code",
   "execution_count": 6,
   "metadata": {},
   "outputs": [],
   "source": [
    "sentence_pairs = load_dataset(FILE_PATH, limit=NUM_PHRASES)\n",
    "split_idx = int(len(sentence_pairs) * 0.9)\n",
    "train_sentence_pairs = sentence_pairs[:split_idx]\n",
    "val_sentence_pairs = sentence_pairs[split_idx:]"
   ]
  },
  {
   "cell_type": "code",
   "execution_count": 7,
   "metadata": {},
   "outputs": [],
   "source": [
    "train_dataset = preprocess_data(train_sentence_pairs, tokenizer, max_len)\n",
    "val_dataset = preprocess_data(val_sentence_pairs, tokenizer, max_len)"
   ]
  },
  {
   "cell_type": "code",
   "execution_count": 8,
   "metadata": {},
   "outputs": [],
   "source": [
    "train_dataloader = create_dataloader(train_dataset, batch_size, tokenizer, shuffle=True, num_workers=0)\n",
    "val_dataloader = create_dataloader(val_dataset, batch_size, tokenizer, shuffle=False, num_workers=0)"
   ]
  },
  {
   "cell_type": "code",
   "execution_count": 9,
   "metadata": {},
   "outputs": [],
   "source": [
    "pad_idx = tokenizer.token_to_id(\"<pad>\")\n",
    "criterion = LabelSmoothingKLDivergenceLoss(label_smoothing, VOCAB_SIZE, ignore_index=pad_idx)"
   ]
  },
  {
   "cell_type": "code",
   "execution_count": 10,
   "metadata": {},
   "outputs": [],
   "source": [
    "def train(model, train_loader, val_loader, criterion, optimizer, scheduler, num_epochs, tgt_vocab, pad_idx, device, log_interval=100):\n",
    "    global_step = 0\n",
    "\n",
    "    for epoch in range(num_epochs):\n",
    "        model.train()\n",
    "        for batch_idx, (src, tgt) in enumerate(train_loader):\n",
    "            src, tgt = src.to(device), tgt.to(device)\n",
    "            src_mask, tgt_mask = generate_masks(src, tgt, pad_idx)\n",
    "            \n",
    "            optimizer.zero_grad()\n",
    "\n",
    "            output = model(src, tgt[:, :-1], src_mask, tgt_mask[:, :-1, :-1])\n",
    "            _, loss = criterion(output, tgt[:, 1:])\n",
    "            loss.backward()\n",
    "\n",
    "            torch.nn.utils.clip_grad_norm_(model.parameters(), max_norm=1)\n",
    "\n",
    "            scheduler.step()\n",
    "\n",
    "            # Log loss, learning rate, weights, and attention weights to TensorBoard\n",
    "            log_loss(writer, loss, global_step)\n",
    "            log_learning_rate(writer, scheduler.learning_rate(), global_step)\n",
    "            global_step += 1\n",
    "\n",
    "        # Evaluate the model on the validation set after each epoch\n",
    "        val_loss = evaluate_model(model, val_loader, criterion, device, pad_idx)\n",
    "        print(f\"Epoch: {epoch + 1}, Validation Loss: {val_loss:.4f}\")\n",
    "\n",
    "        bleu_score = evaluate_metrics(model, val_loader, tgt_vocab, pad_idx, device)\n",
    "        print(f\"Epoch: {epoch + 1}, BLEU Score: {bleu_score:.4f}\")\n",
    "        \n",
    "        log_attention_weights(writer, model.attention_weights, global_step)\n",
    "\n",
    "        # Save the model checkpoint after each epoch\n",
    "        save_checkpoint(model, optimizer, scheduler, epoch, \"checkpoint.pt\")"
   ]
  },
  {
   "cell_type": "code",
   "execution_count": 11,
   "metadata": {},
   "outputs": [
    {
     "ename": "RuntimeError",
     "evalue": "The size of tensor a (93) must match the size of tensor b (92) at non-singleton dimension 3",
     "output_type": "error",
     "traceback": [
      "\u001b[1;31m---------------------------------------------------------------------------\u001b[0m",
      "\u001b[1;31mRuntimeError\u001b[0m                              Traceback (most recent call last)",
      "Cell \u001b[1;32mIn[11], line 1\u001b[0m\n\u001b[1;32m----> 1\u001b[0m train(model, train_dataloader, val_dataloader, criterion, optimizer, scheduler, num_epochs, VOCAB_SIZE, VOCAB_SIZE, device)\n",
      "Cell \u001b[1;32mIn[10], line 13\u001b[0m, in \u001b[0;36mtrain\u001b[1;34m(model, train_loader, val_loader, criterion, optimizer, scheduler, num_epochs, tgt_vocab, pad_idx, device, log_interval)\u001b[0m\n\u001b[0;32m      9\u001b[0m tgt_mask \u001b[39m=\u001b[39m generate_masks(tgt,pad_idx, tgt\u001b[39m=\u001b[39m\u001b[39mTrue\u001b[39;00m)\n\u001b[0;32m     11\u001b[0m optimizer\u001b[39m.\u001b[39mzero_grad()\n\u001b[1;32m---> 13\u001b[0m output \u001b[39m=\u001b[39m model(src, tgt[:, :\u001b[39m-\u001b[39;49m\u001b[39m1\u001b[39;49m], src_mask, tgt_mask[:, :\u001b[39m-\u001b[39;49m\u001b[39m1\u001b[39;49m, :\u001b[39m-\u001b[39;49m\u001b[39m1\u001b[39;49m])\n\u001b[0;32m     14\u001b[0m _, loss \u001b[39m=\u001b[39m criterion(output, tgt[:, \u001b[39m1\u001b[39m:])\n\u001b[0;32m     15\u001b[0m loss\u001b[39m.\u001b[39mbackward()\n",
      "File \u001b[1;32mc:\\Users\\reidp\\miniconda3\\envs\\torch_gpu\\lib\\site-packages\\torch\\nn\\modules\\module.py:1501\u001b[0m, in \u001b[0;36mModule._call_impl\u001b[1;34m(self, *args, **kwargs)\u001b[0m\n\u001b[0;32m   1496\u001b[0m \u001b[39m# If we don't have any hooks, we want to skip the rest of the logic in\u001b[39;00m\n\u001b[0;32m   1497\u001b[0m \u001b[39m# this function, and just call forward.\u001b[39;00m\n\u001b[0;32m   1498\u001b[0m \u001b[39mif\u001b[39;00m \u001b[39mnot\u001b[39;00m (\u001b[39mself\u001b[39m\u001b[39m.\u001b[39m_backward_hooks \u001b[39mor\u001b[39;00m \u001b[39mself\u001b[39m\u001b[39m.\u001b[39m_backward_pre_hooks \u001b[39mor\u001b[39;00m \u001b[39mself\u001b[39m\u001b[39m.\u001b[39m_forward_hooks \u001b[39mor\u001b[39;00m \u001b[39mself\u001b[39m\u001b[39m.\u001b[39m_forward_pre_hooks\n\u001b[0;32m   1499\u001b[0m         \u001b[39mor\u001b[39;00m _global_backward_pre_hooks \u001b[39mor\u001b[39;00m _global_backward_hooks\n\u001b[0;32m   1500\u001b[0m         \u001b[39mor\u001b[39;00m _global_forward_hooks \u001b[39mor\u001b[39;00m _global_forward_pre_hooks):\n\u001b[1;32m-> 1501\u001b[0m     \u001b[39mreturn\u001b[39;00m forward_call(\u001b[39m*\u001b[39margs, \u001b[39m*\u001b[39m\u001b[39m*\u001b[39mkwargs)\n\u001b[0;32m   1502\u001b[0m \u001b[39m# Do not call functions when jit is used\u001b[39;00m\n\u001b[0;32m   1503\u001b[0m full_backward_hooks, non_full_backward_hooks \u001b[39m=\u001b[39m [], []\n",
      "File \u001b[1;32mc:\\Users\\reidp\\Documents\\pytorch-transformer-implementation\\transformer_v2.py:77\u001b[0m, in \u001b[0;36mTransformer.forward\u001b[1;34m(self, src, tgt, src_mask, tgt_mask, return_attention)\u001b[0m\n\u001b[0;32m     74\u001b[0m enc_output, enc_attention_weights \u001b[39m=\u001b[39m \u001b[39mself\u001b[39m\u001b[39m.\u001b[39mencode(src, src_mask)\n\u001b[0;32m     76\u001b[0m \u001b[39m# Decode the output using the encoded input\u001b[39;00m\n\u001b[1;32m---> 77\u001b[0m dec_output, dec_attention_weights, dec_cross_attention_weights \u001b[39m=\u001b[39m \u001b[39mself\u001b[39;49m\u001b[39m.\u001b[39;49mdecode(tgt, enc_output, src_mask, tgt_mask)\n\u001b[0;32m     79\u001b[0m \u001b[39m# Generate the output probabilities\u001b[39;00m\n\u001b[0;32m     80\u001b[0m output_probs \u001b[39m=\u001b[39m F\u001b[39m.\u001b[39mlog_softmax(\u001b[39mself\u001b[39m\u001b[39m.\u001b[39mgenerator(dec_output), dim\u001b[39m=\u001b[39m\u001b[39m-\u001b[39m\u001b[39m1\u001b[39m)\n",
      "File \u001b[1;32mc:\\Users\\reidp\\Documents\\pytorch-transformer-implementation\\transformer_v2.py:66\u001b[0m, in \u001b[0;36mTransformer.decode\u001b[1;34m(self, tgt, enc_output, src_mask, tgt_mask)\u001b[0m\n\u001b[0;32m     64\u001b[0m dec_cross_attention_weights \u001b[39m=\u001b[39m []\n\u001b[0;32m     65\u001b[0m \u001b[39mfor\u001b[39;00m layer \u001b[39min\u001b[39;00m \u001b[39mself\u001b[39m\u001b[39m.\u001b[39mdecoder_layers:\n\u001b[1;32m---> 66\u001b[0m     dec_output, attn_weights, cross_attention_weights \u001b[39m=\u001b[39m layer(dec_output, enc_output, src_mask, tgt_mask)\n\u001b[0;32m     67\u001b[0m     dec_attention_weights\u001b[39m.\u001b[39mappend(attn_weights)\n\u001b[0;32m     68\u001b[0m     dec_cross_attention_weights\u001b[39m.\u001b[39mappend(cross_attention_weights)\n",
      "File \u001b[1;32mc:\\Users\\reidp\\miniconda3\\envs\\torch_gpu\\lib\\site-packages\\torch\\nn\\modules\\module.py:1501\u001b[0m, in \u001b[0;36mModule._call_impl\u001b[1;34m(self, *args, **kwargs)\u001b[0m\n\u001b[0;32m   1496\u001b[0m \u001b[39m# If we don't have any hooks, we want to skip the rest of the logic in\u001b[39;00m\n\u001b[0;32m   1497\u001b[0m \u001b[39m# this function, and just call forward.\u001b[39;00m\n\u001b[0;32m   1498\u001b[0m \u001b[39mif\u001b[39;00m \u001b[39mnot\u001b[39;00m (\u001b[39mself\u001b[39m\u001b[39m.\u001b[39m_backward_hooks \u001b[39mor\u001b[39;00m \u001b[39mself\u001b[39m\u001b[39m.\u001b[39m_backward_pre_hooks \u001b[39mor\u001b[39;00m \u001b[39mself\u001b[39m\u001b[39m.\u001b[39m_forward_hooks \u001b[39mor\u001b[39;00m \u001b[39mself\u001b[39m\u001b[39m.\u001b[39m_forward_pre_hooks\n\u001b[0;32m   1499\u001b[0m         \u001b[39mor\u001b[39;00m _global_backward_pre_hooks \u001b[39mor\u001b[39;00m _global_backward_hooks\n\u001b[0;32m   1500\u001b[0m         \u001b[39mor\u001b[39;00m _global_forward_hooks \u001b[39mor\u001b[39;00m _global_forward_pre_hooks):\n\u001b[1;32m-> 1501\u001b[0m     \u001b[39mreturn\u001b[39;00m forward_call(\u001b[39m*\u001b[39margs, \u001b[39m*\u001b[39m\u001b[39m*\u001b[39mkwargs)\n\u001b[0;32m   1502\u001b[0m \u001b[39m# Do not call functions when jit is used\u001b[39;00m\n\u001b[0;32m   1503\u001b[0m full_backward_hooks, non_full_backward_hooks \u001b[39m=\u001b[39m [], []\n",
      "File \u001b[1;32mc:\\Users\\reidp\\Documents\\pytorch-transformer-implementation\\transformer_v2.py:120\u001b[0m, in \u001b[0;36mDecoderLayer.forward\u001b[1;34m(self, x, enc_output, src_mask, tgt_mask)\u001b[0m\n\u001b[0;32m    118\u001b[0m \u001b[39mdef\u001b[39;00m \u001b[39mforward\u001b[39m(\u001b[39mself\u001b[39m, x, enc_output, src_mask, tgt_mask):\n\u001b[0;32m    119\u001b[0m     \u001b[39m# Apply masked_self_attention + Add & Norm\u001b[39;00m\n\u001b[1;32m--> 120\u001b[0m     x, attn_weights \u001b[39m=\u001b[39m \u001b[39mself\u001b[39;49m\u001b[39m.\u001b[39;49mmasked_self_attention(x, tgt_mask)\n\u001b[0;32m    122\u001b[0m     \u001b[39m# Apply cross-attention with the encoded input + Add & Norm\u001b[39;00m\n\u001b[0;32m    123\u001b[0m     x, cross_attn_weights \u001b[39m=\u001b[39m \u001b[39mself\u001b[39m\u001b[39m.\u001b[39mcross_attention(x, enc_output, src_mask)\n",
      "File \u001b[1;32mc:\\Users\\reidp\\Documents\\pytorch-transformer-implementation\\transformer_v2.py:99\u001b[0m, in \u001b[0;36mDecoderLayer.masked_self_attention\u001b[1;34m(self, x, tgt_mask)\u001b[0m\n\u001b[0;32m     97\u001b[0m \u001b[39mdef\u001b[39;00m \u001b[39mmasked_self_attention\u001b[39m(\u001b[39mself\u001b[39m, x, tgt_mask):\n\u001b[0;32m     98\u001b[0m     \u001b[39m# Perform (Masked) self-attention on the input\u001b[39;00m\n\u001b[1;32m---> 99\u001b[0m     attn_output, attn_weights \u001b[39m=\u001b[39m \u001b[39mself\u001b[39;49m\u001b[39m.\u001b[39;49mself_attn(x, x, x, tgt_mask)\n\u001b[0;32m    101\u001b[0m     \u001b[39m# Add & Norm (Masked) masked_self_attention output + \"x\", input, in this case, output\u001b[39;00m\n\u001b[0;32m    102\u001b[0m     \u001b[39mreturn\u001b[39;00m \u001b[39mself\u001b[39m\u001b[39m.\u001b[39mlayer_norm1(x \u001b[39m+\u001b[39m \u001b[39mself\u001b[39m\u001b[39m.\u001b[39mdropout(attn_output)), attn_weights\n",
      "File \u001b[1;32mc:\\Users\\reidp\\miniconda3\\envs\\torch_gpu\\lib\\site-packages\\torch\\nn\\modules\\module.py:1501\u001b[0m, in \u001b[0;36mModule._call_impl\u001b[1;34m(self, *args, **kwargs)\u001b[0m\n\u001b[0;32m   1496\u001b[0m \u001b[39m# If we don't have any hooks, we want to skip the rest of the logic in\u001b[39;00m\n\u001b[0;32m   1497\u001b[0m \u001b[39m# this function, and just call forward.\u001b[39;00m\n\u001b[0;32m   1498\u001b[0m \u001b[39mif\u001b[39;00m \u001b[39mnot\u001b[39;00m (\u001b[39mself\u001b[39m\u001b[39m.\u001b[39m_backward_hooks \u001b[39mor\u001b[39;00m \u001b[39mself\u001b[39m\u001b[39m.\u001b[39m_backward_pre_hooks \u001b[39mor\u001b[39;00m \u001b[39mself\u001b[39m\u001b[39m.\u001b[39m_forward_hooks \u001b[39mor\u001b[39;00m \u001b[39mself\u001b[39m\u001b[39m.\u001b[39m_forward_pre_hooks\n\u001b[0;32m   1499\u001b[0m         \u001b[39mor\u001b[39;00m _global_backward_pre_hooks \u001b[39mor\u001b[39;00m _global_backward_hooks\n\u001b[0;32m   1500\u001b[0m         \u001b[39mor\u001b[39;00m _global_forward_hooks \u001b[39mor\u001b[39;00m _global_forward_pre_hooks):\n\u001b[1;32m-> 1501\u001b[0m     \u001b[39mreturn\u001b[39;00m forward_call(\u001b[39m*\u001b[39margs, \u001b[39m*\u001b[39m\u001b[39m*\u001b[39mkwargs)\n\u001b[0;32m   1502\u001b[0m \u001b[39m# Do not call functions when jit is used\u001b[39;00m\n\u001b[0;32m   1503\u001b[0m full_backward_hooks, non_full_backward_hooks \u001b[39m=\u001b[39m [], []\n",
      "File \u001b[1;32mc:\\Users\\reidp\\Documents\\pytorch-transformer-implementation\\transformer_v2.py:246\u001b[0m, in \u001b[0;36mMultiHeadAttention.forward\u001b[1;34m(self, q, k, v, mask)\u001b[0m\n\u001b[0;32m    243\u001b[0m v \u001b[39m=\u001b[39m \u001b[39mself\u001b[39m\u001b[39m.\u001b[39msplit_heads(v)\n\u001b[0;32m    245\u001b[0m \u001b[39m# Perform scaled dot-product attention\u001b[39;00m\n\u001b[1;32m--> 246\u001b[0m attn_output, attn_weights \u001b[39m=\u001b[39m \u001b[39mself\u001b[39;49m\u001b[39m.\u001b[39;49mscaled_dot_product_attention(q, k, v, mask)\n\u001b[0;32m    248\u001b[0m \u001b[39mif\u001b[39;00m \u001b[39mself\u001b[39m\u001b[39m.\u001b[39mstore_attention_weights:\n\u001b[0;32m    249\u001b[0m     \u001b[39mself\u001b[39m\u001b[39m.\u001b[39mattention_weights \u001b[39m=\u001b[39m attn_weights\u001b[39m.\u001b[39mclone()\n",
      "File \u001b[1;32mc:\\Users\\reidp\\Documents\\pytorch-transformer-implementation\\transformer_v2.py:221\u001b[0m, in \u001b[0;36mMultiHeadAttention.scaled_dot_product_attention\u001b[1;34m(self, q, k, v, mask)\u001b[0m\n\u001b[0;32m    219\u001b[0m \u001b[39m# Masking (Optional)\u001b[39;00m\n\u001b[0;32m    220\u001b[0m \u001b[39mif\u001b[39;00m mask \u001b[39mis\u001b[39;00m \u001b[39mnot\u001b[39;00m \u001b[39mNone\u001b[39;00m:\n\u001b[1;32m--> 221\u001b[0m     attn_scores \u001b[39m=\u001b[39m attn_scores\u001b[39m.\u001b[39;49mmasked_fill(mask \u001b[39m==\u001b[39;49m \u001b[39m0\u001b[39;49m, \u001b[39mfloat\u001b[39;49m(\u001b[39m'\u001b[39;49m\u001b[39m-1e20\u001b[39;49m\u001b[39m'\u001b[39;49m))\n\u001b[0;32m    223\u001b[0m \u001b[39m# Softmax is applied to the attention scores\u001b[39;00m\n\u001b[0;32m    224\u001b[0m attn_weights \u001b[39m=\u001b[39m F\u001b[39m.\u001b[39msoftmax(attn_scores, dim\u001b[39m=\u001b[39m\u001b[39m-\u001b[39m\u001b[39m1\u001b[39m)\n",
      "\u001b[1;31mRuntimeError\u001b[0m: The size of tensor a (93) must match the size of tensor b (92) at non-singleton dimension 3"
     ]
    }
   ],
   "source": [
    "train(model, train_dataloader, val_dataloader, criterion, optimizer, scheduler, num_epochs, VOCAB_SIZE, VOCAB_SIZE, device)"
   ]
  },
  {
   "cell_type": "code",
   "execution_count": null,
   "metadata": {},
   "outputs": [],
   "source": []
  }
 ],
 "metadata": {
  "kernelspec": {
   "display_name": "torch_gpu",
   "language": "python",
   "name": "python3"
  },
  "language_info": {
   "codemirror_mode": {
    "name": "ipython",
    "version": 3
   },
   "file_extension": ".py",
   "mimetype": "text/x-python",
   "name": "python",
   "nbconvert_exporter": "python",
   "pygments_lexer": "ipython3",
   "version": "3.10.9"
  },
  "orig_nbformat": 4
 },
 "nbformat": 4,
 "nbformat_minor": 2
}
