{
 "cells": [
  {
   "cell_type": "code",
   "execution_count": 1,
   "metadata": {},
   "outputs": [],
   "source": [
    "import os\n",
    "import sys\n",
    "sys.path.insert(1, os.path.abspath(os.path.join(os.path.dirname(f'..{os.sep}utils'))))\n",
    "sys.path.insert(1, os.path.abspath(os.path.join(os.path.dirname( '..'))))\n",
    "from utils.constants import *\n",
    "import torch\n",
    "import torch.nn as nn\n",
    "from transformer_v2 import Transformer\n",
    "from utils.function_utils import *\n",
    "from func_load_model import *\n",
    "from utils.optimizer_n_scheduler import *\n",
    "from utils.logging_tensorboard import create_summary_writer, log_loss, log_learning_rate, log_gradients, log_attention_weights\n",
    "from utils.distributions import *\n",
    "from torch.cuda.amp import GradScaler, autocast"
   ]
  },
  {
   "cell_type": "code",
   "execution_count": 2,
   "metadata": {},
   "outputs": [],
   "source": [
    "num_workers = os.cpu_count()"
   ]
  },
  {
   "cell_type": "code",
   "execution_count": 3,
   "metadata": {},
   "outputs": [
    {
     "name": "stdout",
     "output_type": "stream",
     "text": [
      "Fri Apr 28 01:06:41 2023       \n",
      "+---------------------------------------------------------------------------------------+\n",
      "| NVIDIA-SMI 531.14                 Driver Version: 531.14       CUDA Version: 12.1     |\n",
      "|-----------------------------------------+----------------------+----------------------+\n",
      "| GPU  Name                      TCC/WDDM | Bus-Id        Disp.A | Volatile Uncorr. ECC |\n",
      "| Fan  Temp  Perf            Pwr:Usage/Cap|         Memory-Usage | GPU-Util  Compute M. |\n",
      "|                                         |                      |               MIG M. |\n",
      "|=========================================+======================+======================|\n",
      "|   0  NVIDIA GeForce RTX 3060 Ti    WDDM | 00000000:29:00.0  On |                  N/A |\n",
      "| 30%   38C    P0               43W / 200W|    528MiB /  8192MiB |      5%      Default |\n",
      "|                                         |                      |                  N/A |\n",
      "+-----------------------------------------+----------------------+----------------------+\n",
      "                                                                                         \n",
      "+---------------------------------------------------------------------------------------+\n",
      "| Processes:                                                                            |\n",
      "|  GPU   GI   CI        PID   Type   Process name                            GPU Memory |\n",
      "|        ID   ID                                                             Usage      |\n",
      "|=======================================================================================|\n",
      "|    0   N/A  N/A       888    C+G   ...Desktop\\app-3.2.1\\GitHubDesktop.exe    N/A      |\n",
      "|    0   N/A  N/A      1116    C+G   ...oogle\\Chrome\\Application\\chrome.exe    N/A      |\n",
      "|    0   N/A  N/A      2912    C+G   ...61.0_x64__8wekyb3d8bbwe\\GameBar.exe    N/A      |\n",
      "|    0   N/A  N/A      4072    C+G   ...1.0_x64__8wekyb3d8bbwe\\Video.UI.exe    N/A      |\n",
      "|    0   N/A  N/A      7724    C+G   ...al\\Discord\\app-1.0.9012\\Discord.exe    N/A      |\n",
      "|    0   N/A  N/A      8868    C+G   ...siveControlPanel\\SystemSettings.exe    N/A      |\n",
      "|    0   N/A  N/A      9604    C+G   C:\\Windows\\explorer.exe                   N/A      |\n",
      "|    0   N/A  N/A     10832    C+G   ...nt.CBS_cw5n1h2txyewy\\SearchHost.exe    N/A      |\n",
      "|    0   N/A  N/A     10960    C+G   ...2txyewy\\StartMenuExperienceHost.exe    N/A      |\n",
      "|    0   N/A  N/A     12508    C+G   ...CBS_cw5n1h2txyewy\\TextInputHost.exe    N/A      |\n",
      "|    0   N/A  N/A     13172    C+G   ...GeForce Experience\\NVIDIA Share.exe    N/A      |\n",
      "|    0   N/A  N/A     13600    C+G   ...43.0_x86__zpdnekdrzrea0\\Spotify.exe    N/A      |\n",
      "|    0   N/A  N/A     17260    C+G   ...Programs\\Microsoft VS Code\\Code.exe    N/A      |\n",
      "+---------------------------------------------------------------------------------------+\n"
     ]
    }
   ],
   "source": [
    "!nvidia-smi"
   ]
  },
  {
   "cell_type": "code",
   "execution_count": 4,
   "metadata": {},
   "outputs": [],
   "source": [
    "device = torch.device(\"cuda\" if torch.cuda.is_available() else \"cpu\")\n",
    "\n",
    "batch_size = 16\n",
    "max_len = MODEL_MAX_SEQ_LEN\n",
    "d_model = MODEL_DIM\n",
    "num_layers = MODEL_N_LAYERS\n",
    "num_heads = MODEL_N_HEADS\n",
    "dropout = MODEL_DROPOUT\n",
    "num_epochs = 10\n",
    "learning_rate = 1e-4\n",
    "warmup_steps = 2000\n",
    "weight_decay = 1e-4\n",
    "VOCAB_SIZE = 32_000\n",
    "d_ff = MODEL_FF\n",
    "label_smoothing = MODEL_LABEL_SMOTHING\n",
    "\n",
    "NUM_PHRASES = 10_000\n",
    "\n",
    "n=0\n",
    "LOGGING_FILE = f'runs{os.sep}translation_experiment_{n}'"
   ]
  },
  {
   "cell_type": "code",
   "execution_count": 5,
   "metadata": {},
   "outputs": [],
   "source": [
    "tokenizer = load_tokenizer()\n",
    "model = Transformer(VOCAB_SIZE,\n",
    "                    VOCAB_SIZE, \n",
    "                    d_model, \n",
    "                    num_heads, \n",
    "                    num_layers, \n",
    "                    d_ff, \n",
    "                    dropout, \n",
    "                    max_len).to(device)"
   ]
  },
  {
   "cell_type": "code",
   "execution_count": 6,
   "metadata": {},
   "outputs": [],
   "source": [
    "optimizer, scheduler = create_optimizer_and_scheduler(model, d_model, warmup_steps, learning_rate, weight_decay)"
   ]
  },
  {
   "cell_type": "code",
   "execution_count": 7,
   "metadata": {},
   "outputs": [],
   "source": [
    "writer = create_summary_writer(LOGGING_FILE)"
   ]
  },
  {
   "cell_type": "code",
   "execution_count": 8,
   "metadata": {},
   "outputs": [],
   "source": [
    "sentence_pairs = load_dataset(FILE_PATH, limit=NUM_PHRASES)\n",
    "split_idx = int(len(sentence_pairs) * 0.9)\n",
    "train_sentence_pairs = sentence_pairs[:split_idx]\n",
    "val_sentence_pairs = sentence_pairs[split_idx:]"
   ]
  },
  {
   "cell_type": "code",
   "execution_count": 9,
   "metadata": {},
   "outputs": [],
   "source": [
    "train_dataset = preprocess_data(train_sentence_pairs, tokenizer, max_len)\n",
    "val_dataset = preprocess_data(val_sentence_pairs, tokenizer, max_len)"
   ]
  },
  {
   "cell_type": "code",
   "execution_count": 10,
   "metadata": {},
   "outputs": [],
   "source": [
    "train_dataloader = create_dataloader(train_dataset, batch_size, tokenizer, shuffle=True, num_workers=num_workers)\n",
    "val_dataloader = create_dataloader(val_dataset, batch_size, tokenizer, shuffle=False, num_workers=num_workers)"
   ]
  },
  {
   "cell_type": "code",
   "execution_count": 11,
   "metadata": {},
   "outputs": [],
   "source": [
    "pad_idx = tokenizer.token_to_id(\"<pad>\")\n",
    "criterion = LabelSmoothingKLDivergenceLoss(label_smoothing, VOCAB_SIZE, ignore_index=pad_idx)"
   ]
  },
  {
   "cell_type": "code",
   "execution_count": 12,
   "metadata": {},
   "outputs": [],
   "source": [
    "def train(model, train_loader, val_loader, criterion, optimizer, scheduler, num_epochs, tgt_vocab, pad_idx, device, log_interval=100):\n",
    "    global_step = 0\n",
    "    accumulation_steps = 4\n",
    "    for epoch in range(num_epochs):\n",
    "        model.train()\n",
    "        accumulation_steps = 4\n",
    "        optimizer.zero_grad()\n",
    "        for batch_idx, (src, tgt) in enumerate(train_loader):\n",
    "            src, tgt = src.to(device), tgt.to(device)\n",
    "            src_mask, tgt_mask = generate_masks(src, tgt, pad_idx)\n",
    "            output = model(src, tgt, src_mask, tgt_mask)\n",
    "            _, loss = criterion(output, tgt)\n",
    "            loss.backward()\n",
    "            scheduler.step()\n",
    "            if (batch_idx + 1) % accumulation_steps == 0:\n",
    "                optimizer.zero_grad()\n",
    "                torch.nn.utils.clip_grad_norm_(model.parameters(), max_norm=1)\n",
    "                optimizer.step()\n",
    "                optimizer.zero_grad()\n",
    "            # Log loss, learning rate, weights, and attention weights to TensorBoard\n",
    "            log_loss(writer, loss, global_step)\n",
    "            log_learning_rate(writer, scheduler.learning_rate(), global_step)\n",
    "            global_step += 1\n",
    "\n",
    "            if (batch_idx + 1) % 10 == 0:\n",
    "                print(f\"Epoch {epoch + 1}/{num_epochs} | Batch {batch_idx + 1}/{len(train_loader)} | Train Loss: {loss.item():.4f}\")\n",
    "\n",
    "        # Evaluate the model on the validation set after each epoch\n",
    "        val_loss = evaluate_model(model, val_loader, criterion, device, pad_idx)\n",
    "        print(f\"Epoch: {epoch + 1}, Validation Loss: {val_loss:.4f}\")\n",
    "\n",
    "        #TODO: Implement model forward function withouth tgt_mask\n",
    "        # May use greedy decoding or beam search\n",
    "        \n",
    "        #bleu_score = evaluate_metrics(model, val_loader, pad_idx, tokenizer, device)\n",
    "        #print(f\"Epoch: {epoch + 1}, BLEU Score: {bleu_score:.4f}\")\n",
    "        \n",
    "        log_attention_weights(writer, model.attention_weights, global_step)\n",
    "\n",
    "        # Save the model checkpoint after each epoch\n",
    "        save_checkpoint(model, optimizer, scheduler, epoch, \"checkpoint.pt\")"
   ]
  },
  {
   "cell_type": "code",
   "execution_count": 13,
   "metadata": {},
   "outputs": [
    {
     "name": "stdout",
     "output_type": "stream",
     "text": [
      "Epoch 1/10 | Batch 10/563 | Train Loss: 8.9959\n",
      "Epoch 1/10 | Batch 20/563 | Train Loss: 8.9576\n",
      "Epoch 1/10 | Batch 30/563 | Train Loss: 8.9139\n",
      "Epoch 1/10 | Batch 40/563 | Train Loss: 8.8892\n",
      "Epoch 1/10 | Batch 50/563 | Train Loss: 8.7735\n",
      "Epoch 1/10 | Batch 60/563 | Train Loss: 8.7340\n",
      "Epoch 1/10 | Batch 70/563 | Train Loss: 8.6527\n",
      "Epoch 1/10 | Batch 80/563 | Train Loss: 8.5595\n",
      "Epoch 1/10 | Batch 90/563 | Train Loss: 8.4660\n",
      "Epoch 1/10 | Batch 100/563 | Train Loss: 8.3102\n",
      "Epoch 1/10 | Batch 110/563 | Train Loss: 8.1686\n",
      "Epoch 1/10 | Batch 120/563 | Train Loss: 8.1156\n",
      "Epoch 1/10 | Batch 130/563 | Train Loss: 7.9913\n",
      "Epoch 1/10 | Batch 140/563 | Train Loss: 7.8184\n",
      "Epoch 1/10 | Batch 150/563 | Train Loss: 7.7335\n",
      "Epoch 1/10 | Batch 160/563 | Train Loss: 7.6386\n",
      "Epoch 1/10 | Batch 170/563 | Train Loss: 7.4939\n",
      "Epoch 1/10 | Batch 180/563 | Train Loss: 7.4349\n",
      "Epoch 1/10 | Batch 190/563 | Train Loss: 7.4932\n",
      "Epoch 1/10 | Batch 200/563 | Train Loss: 7.2946\n",
      "Epoch 1/10 | Batch 210/563 | Train Loss: 7.1474\n",
      "Epoch 1/10 | Batch 220/563 | Train Loss: 7.0666\n",
      "Epoch 1/10 | Batch 230/563 | Train Loss: 6.9894\n",
      "Epoch 1/10 | Batch 240/563 | Train Loss: 6.9729\n",
      "Epoch 1/10 | Batch 250/563 | Train Loss: 6.9333\n",
      "Epoch 1/10 | Batch 260/563 | Train Loss: 6.9437\n",
      "Epoch 1/10 | Batch 270/563 | Train Loss: 7.2913\n",
      "Epoch 1/10 | Batch 280/563 | Train Loss: 6.8509\n",
      "Epoch 1/10 | Batch 290/563 | Train Loss: 6.9512\n",
      "Epoch 1/10 | Batch 300/563 | Train Loss: 6.7585\n",
      "Epoch 1/10 | Batch 310/563 | Train Loss: 6.9140\n",
      "Epoch 1/10 | Batch 320/563 | Train Loss: 6.8045\n",
      "Epoch 1/10 | Batch 330/563 | Train Loss: 6.8238\n",
      "Epoch 1/10 | Batch 340/563 | Train Loss: 6.8925\n",
      "Epoch 1/10 | Batch 350/563 | Train Loss: 6.8070\n",
      "Epoch 1/10 | Batch 360/563 | Train Loss: 7.0211\n",
      "Epoch 1/10 | Batch 370/563 | Train Loss: 7.4527\n",
      "Epoch 1/10 | Batch 380/563 | Train Loss: 6.9046\n",
      "Epoch 1/10 | Batch 390/563 | Train Loss: 6.7473\n",
      "Epoch 1/10 | Batch 400/563 | Train Loss: 6.8170\n",
      "Epoch 1/10 | Batch 410/563 | Train Loss: 6.8395\n",
      "Epoch 1/10 | Batch 420/563 | Train Loss: 6.9251\n",
      "Epoch 1/10 | Batch 430/563 | Train Loss: 6.9768\n",
      "Epoch 1/10 | Batch 440/563 | Train Loss: 6.9928\n",
      "Epoch 1/10 | Batch 450/563 | Train Loss: 6.9322\n",
      "Epoch 1/10 | Batch 460/563 | Train Loss: 6.6457\n",
      "Epoch 1/10 | Batch 470/563 | Train Loss: 7.0973\n",
      "Epoch 1/10 | Batch 480/563 | Train Loss: 6.8253\n",
      "Epoch 1/10 | Batch 490/563 | Train Loss: 6.9563\n",
      "Epoch 1/10 | Batch 500/563 | Train Loss: 6.8083\n",
      "Epoch 1/10 | Batch 510/563 | Train Loss: 7.0383\n",
      "Epoch 1/10 | Batch 520/563 | Train Loss: 6.9269\n",
      "Epoch 1/10 | Batch 530/563 | Train Loss: 6.8838\n",
      "Epoch 1/10 | Batch 540/563 | Train Loss: 6.8278\n",
      "Epoch 1/10 | Batch 550/563 | Train Loss: 6.8223\n",
      "Epoch 1/10 | Batch 560/563 | Train Loss: 6.9842\n",
      "Epoch: 1, Validation Loss: 6.9582\n"
     ]
    },
    {
     "ename": "AttributeError",
     "evalue": "'Transformer' object has no attribute 'generate'",
     "output_type": "error",
     "traceback": [
      "\u001b[1;31m---------------------------------------------------------------------------\u001b[0m",
      "\u001b[1;31mAttributeError\u001b[0m                            Traceback (most recent call last)",
      "Cell \u001b[1;32mIn[13], line 1\u001b[0m\n\u001b[1;32m----> 1\u001b[0m train(model, train_dataloader, val_dataloader, criterion, optimizer, scheduler, num_epochs, VOCAB_SIZE, VOCAB_SIZE, device)\n",
      "Cell \u001b[1;32mIn[12], line 32\u001b[0m, in \u001b[0;36mtrain\u001b[1;34m(model, train_loader, val_loader, criterion, optimizer, scheduler, num_epochs, tgt_vocab, pad_idx, device, log_interval)\u001b[0m\n\u001b[0;32m     29\u001b[0m val_loss \u001b[39m=\u001b[39m evaluate_model(model, val_loader, criterion, device, pad_idx)\n\u001b[0;32m     30\u001b[0m \u001b[39mprint\u001b[39m(\u001b[39mf\u001b[39m\u001b[39m\"\u001b[39m\u001b[39mEpoch: \u001b[39m\u001b[39m{\u001b[39;00mepoch\u001b[39m \u001b[39m\u001b[39m+\u001b[39m\u001b[39m \u001b[39m\u001b[39m1\u001b[39m\u001b[39m}\u001b[39;00m\u001b[39m, Validation Loss: \u001b[39m\u001b[39m{\u001b[39;00mval_loss\u001b[39m:\u001b[39;00m\u001b[39m.4f\u001b[39m\u001b[39m}\u001b[39;00m\u001b[39m\"\u001b[39m)\n\u001b[1;32m---> 32\u001b[0m bleu_score \u001b[39m=\u001b[39m evaluate_metrics(model, val_loader, pad_idx, tokenizer, device)\n\u001b[0;32m     33\u001b[0m \u001b[39mprint\u001b[39m(\u001b[39mf\u001b[39m\u001b[39m\"\u001b[39m\u001b[39mEpoch: \u001b[39m\u001b[39m{\u001b[39;00mepoch\u001b[39m \u001b[39m\u001b[39m+\u001b[39m\u001b[39m \u001b[39m\u001b[39m1\u001b[39m\u001b[39m}\u001b[39;00m\u001b[39m, BLEU Score: \u001b[39m\u001b[39m{\u001b[39;00mbleu_score\u001b[39m:\u001b[39;00m\u001b[39m.4f\u001b[39m\u001b[39m}\u001b[39;00m\u001b[39m\"\u001b[39m)\n\u001b[0;32m     35\u001b[0m log_attention_weights(writer, model\u001b[39m.\u001b[39mattention_weights, global_step)\n",
      "File \u001b[1;32mc:\\Users\\reidp\\Documents\\pytorch-transformer-implementation\\utils\\function_utils.py:117\u001b[0m, in \u001b[0;36mevaluate_metrics\u001b[1;34m(model, data_loader, pad_idx, tokenizer, device)\u001b[0m\n\u001b[0;32m    115\u001b[0m src, tgt \u001b[39m=\u001b[39m src\u001b[39m.\u001b[39mto(device), tgt\u001b[39m.\u001b[39mto(device)\n\u001b[0;32m    116\u001b[0m src_mask, _ \u001b[39m=\u001b[39m generate_masks(src, tgt, pad_idx)\n\u001b[1;32m--> 117\u001b[0m output \u001b[39m=\u001b[39m model\u001b[39m.\u001b[39;49mgenerate(src, src_mask)\n\u001b[0;32m    118\u001b[0m hypothesis \u001b[39m=\u001b[39m [tokenizer\u001b[39m.\u001b[39mtoken_to_id(token) \u001b[39mfor\u001b[39;00m token \u001b[39min\u001b[39;00m output \u001b[39mif\u001b[39;00m token \u001b[39mnot\u001b[39;00m \u001b[39min\u001b[39;00m (pad_idx, tokenizer\u001b[39m.\u001b[39mtoken_to_id(\u001b[39m'\u001b[39m\u001b[39m<s>\u001b[39m\u001b[39m'\u001b[39m), tokenizer\u001b[39m.\u001b[39mtoken_to_id(\u001b[39m'\u001b[39m\u001b[39m</s>\u001b[39m\u001b[39m'\u001b[39m))]\n\u001b[0;32m    119\u001b[0m reference \u001b[39m=\u001b[39m [tokenizer\u001b[39m.\u001b[39mtoken_to_id(token) \u001b[39mfor\u001b[39;00m token \u001b[39min\u001b[39;00m tgt \u001b[39mif\u001b[39;00m token \u001b[39mnot\u001b[39;00m \u001b[39min\u001b[39;00m (pad_idx, tokenizer\u001b[39m.\u001b[39mtoken_to_id(\u001b[39m'\u001b[39m\u001b[39m<s>\u001b[39m\u001b[39m'\u001b[39m), tokenizer\u001b[39m.\u001b[39mtoken_to_id(\u001b[39m'\u001b[39m\u001b[39m</s>\u001b[39m\u001b[39m'\u001b[39m))]\n",
      "File \u001b[1;32mc:\\Users\\reidp\\miniconda3\\envs\\torch_gpu\\lib\\site-packages\\torch\\nn\\modules\\module.py:1614\u001b[0m, in \u001b[0;36mModule.__getattr__\u001b[1;34m(self, name)\u001b[0m\n\u001b[0;32m   1612\u001b[0m     \u001b[39mif\u001b[39;00m name \u001b[39min\u001b[39;00m modules:\n\u001b[0;32m   1613\u001b[0m         \u001b[39mreturn\u001b[39;00m modules[name]\n\u001b[1;32m-> 1614\u001b[0m \u001b[39mraise\u001b[39;00m \u001b[39mAttributeError\u001b[39;00m(\u001b[39m\"\u001b[39m\u001b[39m'\u001b[39m\u001b[39m{}\u001b[39;00m\u001b[39m'\u001b[39m\u001b[39m object has no attribute \u001b[39m\u001b[39m'\u001b[39m\u001b[39m{}\u001b[39;00m\u001b[39m'\u001b[39m\u001b[39m\"\u001b[39m\u001b[39m.\u001b[39mformat(\n\u001b[0;32m   1615\u001b[0m     \u001b[39mtype\u001b[39m(\u001b[39mself\u001b[39m)\u001b[39m.\u001b[39m\u001b[39m__name__\u001b[39m, name))\n",
      "\u001b[1;31mAttributeError\u001b[0m: 'Transformer' object has no attribute 'generate'"
     ]
    }
   ],
   "source": [
    "train(model, train_dataloader, val_dataloader, criterion, optimizer, scheduler, num_epochs, VOCAB_SIZE, VOCAB_SIZE, device)"
   ]
  },
  {
   "cell_type": "code",
   "execution_count": null,
   "metadata": {},
   "outputs": [],
   "source": []
  }
 ],
 "metadata": {
  "kernelspec": {
   "display_name": "torch_gpu",
   "language": "python",
   "name": "python3"
  },
  "language_info": {
   "codemirror_mode": {
    "name": "ipython",
    "version": 3
   },
   "file_extension": ".py",
   "mimetype": "text/x-python",
   "name": "python",
   "nbconvert_exporter": "python",
   "pygments_lexer": "ipython3",
   "version": "3.10.9"
  },
  "orig_nbformat": 4
 },
 "nbformat": 4,
 "nbformat_minor": 2
}
